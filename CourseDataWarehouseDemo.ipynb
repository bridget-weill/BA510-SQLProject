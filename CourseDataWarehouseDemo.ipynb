{
 "cells": [
  {
   "cell_type": "markdown",
   "metadata": {},
   "source": [
    "# __Queries__"
   ]
  },
  {
   "cell_type": "markdown",
   "metadata": {},
   "source": [
    "#### __Some Questions for the datawarehouse to answer:__\n",
    "\n",
    "1. Which program has the most professors? Most classes offered?\n",
    "2. Which course has the most classes offered?\n",
    "3. What term are the most classes offered?\n",
    "4. Which classes leave the most seats open?"
   ]
  },
  {
   "cell_type": "markdown",
   "metadata": {},
   "source": [
    "__Import Packages__"
   ]
  },
  {
   "cell_type": "code",
   "execution_count": 1,
   "metadata": {},
   "outputs": [],
   "source": [
    "%load_ext sql\n",
    "import pandas as pd\n",
    "import sqlite3"
   ]
  },
  {
   "cell_type": "code",
   "execution_count": 2,
   "metadata": {},
   "outputs": [
    {
     "data": {
      "text/plain": [
       "'Connected: @CourseDataWarehouse.db'"
      ]
     },
     "execution_count": 2,
     "metadata": {},
     "output_type": "execute_result"
    }
   ],
   "source": [
    "%sql sqlite:///CourseDataWarehouse.db"
   ]
  },
  {
   "cell_type": "markdown",
   "metadata": {},
   "source": [
    "### __1. Which program has the most professors? Most classes offered?__"
   ]
  },
  {
   "cell_type": "markdown",
   "metadata": {},
   "source": [
    "- This can be used to determine which program spends the msot money on professors.\n",
    "- By determining this, the school can then analyze the amount of money this program brings in in comparison to what they are giving out.\n",
    "- If the school needs to downsize, they can use this data to get overall counts of departments that are more easily downsized, and look into the possibility of increasing class size and dereasing number of classes offered."
   ]
  },
  {
   "cell_type": "markdown",
   "metadata": {},
   "source": [
    "#### __1A. Which program has the most professors?__"
   ]
  },
  {
   "cell_type": "code",
   "execution_count": 3,
   "metadata": {},
   "outputs": [
    {
     "name": "stdout",
     "output_type": "stream",
     "text": [
      " * sqlite:///CourseDataWarehouse.db\n",
      "Done.\n"
     ]
    },
    {
     "data": {
      "text/html": [
       "<table>\n",
       "    <tr>\n",
       "        <th>ProgramName</th>\n",
       "        <th>ProgramCode</th>\n",
       "        <th>ProfessorCount</th>\n",
       "    </tr>\n",
       "    <tr>\n",
       "        <td>Nursing</td>\n",
       "        <td>NS</td>\n",
       "        <td>143</td>\n",
       "    </tr>\n",
       "    <tr>\n",
       "        <td>English</td>\n",
       "        <td>EN</td>\n",
       "        <td>90</td>\n",
       "    </tr>\n",
       "    <tr>\n",
       "        <td>Honors</td>\n",
       "        <td>HR</td>\n",
       "        <td>62</td>\n",
       "    </tr>\n",
       "    <tr>\n",
       "        <td>Mathematics</td>\n",
       "        <td>MA</td>\n",
       "        <td>55</td>\n",
       "    </tr>\n",
       "    <tr>\n",
       "        <td>Family Therapy</td>\n",
       "        <td>FT</td>\n",
       "        <td>46</td>\n",
       "    </tr>\n",
       "    <tr>\n",
       "        <td>None</td>\n",
       "        <td>None</td>\n",
       "        <td>43</td>\n",
       "    </tr>\n",
       "    <tr>\n",
       "        <td>Education</td>\n",
       "        <td>ED</td>\n",
       "        <td>42</td>\n",
       "    </tr>\n",
       "    <tr>\n",
       "        <td>Biology</td>\n",
       "        <td>BI</td>\n",
       "        <td>41</td>\n",
       "    </tr>\n",
       "    <tr>\n",
       "        <td>Religious Studies</td>\n",
       "        <td>RS</td>\n",
       "        <td>39</td>\n",
       "    </tr>\n",
       "    <tr>\n",
       "        <td>Economics</td>\n",
       "        <td>EC</td>\n",
       "        <td>36</td>\n",
       "    </tr>\n",
       "</table>"
      ],
      "text/plain": [
       "[('Nursing', 'NS', 143),\n",
       " ('English', 'EN', 90),\n",
       " ('Honors', 'HR', 62),\n",
       " ('Mathematics', 'MA', 55),\n",
       " ('Family Therapy', 'FT', 46),\n",
       " (None, None, 43),\n",
       " ('Education', 'ED', 42),\n",
       " ('Biology', 'BI', 41),\n",
       " ('Religious Studies', 'RS', 39),\n",
       " ('Economics', 'EC', 36)]"
      ]
     },
     "execution_count": 3,
     "metadata": {},
     "output_type": "execute_result"
    }
   ],
   "source": [
    "%%sql\n",
    "SELECT ProgramName, ProgramCode, COUNT(Distinct ProfessorID) AS ProfessorCount\n",
    "FROM ClassFactTable \n",
    "    LEFT JOIN ProgramDimension USING (ProgramID)\n",
    "GROUP BY ProgramCode\n",
    "ORDER BY COUNT(DISTINCT ProfessorID)DESC\n",
    "LIMIT 10;"
   ]
  },
  {
   "cell_type": "markdown",
   "metadata": {},
   "source": [
    "- __The Nursing program has the greatest number of professors, 143, followed by English and Honors__\n",
    "    - Next Steps: look into the 'None' column for ProgramName and ProfessorCount"
   ]
  },
  {
   "cell_type": "code",
   "execution_count": 4,
   "metadata": {},
   "outputs": [
    {
     "name": "stdout",
     "output_type": "stream",
     "text": [
      " * sqlite:///CourseDataWarehouse.db\n",
      "Done.\n"
     ]
    },
    {
     "data": {
      "text/html": [
       "<table>\n",
       "    <tr>\n",
       "        <th>ProgramName</th>\n",
       "        <th>ProgramCode</th>\n",
       "        <th>Name</th>\n",
       "    </tr>\n",
       "    <tr>\n",
       "        <td>Women, Gender, and Sexuality Studies</td>\n",
       "        <td>WS</td>\n",
       "        <td>Anna M.  Lawrence</td>\n",
       "    </tr>\n",
       "    <tr>\n",
       "        <td>Women, Gender, and Sexuality Studies</td>\n",
       "        <td>WS</td>\n",
       "        <td>Emily J.  Orlando</td>\n",
       "    </tr>\n",
       "</table>"
      ],
      "text/plain": [
       "[('Women, Gender, and Sexuality Studies', 'WS', 'Anna M.  Lawrence'),\n",
       " ('Women, Gender, and Sexuality Studies', 'WS', 'Emily J.  Orlando')]"
      ]
     },
     "execution_count": 4,
     "metadata": {},
     "output_type": "execute_result"
    }
   ],
   "source": [
    "%%sql\n",
    "SELECT DISTINCT ProgramName, ProgramCode, ProfessorDimension.Name\n",
    "FROM ClassFactTable \n",
    "    LEFT JOIN ProgramDimension USING (ProgramID)\n",
    "    LEFT JOIN ProfessorDimension USING (ProfessorID)\n",
    "WHERE ProgramCode like '%WS';"
   ]
  },
  {
   "cell_type": "markdown",
   "metadata": {},
   "source": [
    "#### __1B. Which program has the most classes offered?__"
   ]
  },
  {
   "cell_type": "code",
   "execution_count": 5,
   "metadata": {},
   "outputs": [
    {
     "name": "stdout",
     "output_type": "stream",
     "text": [
      " * sqlite:///CourseDataWarehouse.db\n",
      "Done.\n"
     ]
    },
    {
     "data": {
      "text/html": [
       "<table>\n",
       "    <tr>\n",
       "        <th>ProgramName</th>\n",
       "        <th>ProgramCode</th>\n",
       "        <th>ClassesOffered</th>\n",
       "    </tr>\n",
       "    <tr>\n",
       "        <td>Nursing</td>\n",
       "        <td>NS</td>\n",
       "        <td>1340</td>\n",
       "    </tr>\n",
       "    <tr>\n",
       "        <td>English</td>\n",
       "        <td>EN</td>\n",
       "        <td>937</td>\n",
       "    </tr>\n",
       "    <tr>\n",
       "        <td>Biology</td>\n",
       "        <td>BI</td>\n",
       "        <td>770</td>\n",
       "    </tr>\n",
       "    <tr>\n",
       "        <td>Mathematics</td>\n",
       "        <td>MA</td>\n",
       "        <td>660</td>\n",
       "    </tr>\n",
       "    <tr>\n",
       "        <td>Psychology</td>\n",
       "        <td>PY</td>\n",
       "        <td>549</td>\n",
       "    </tr>\n",
       "    <tr>\n",
       "        <td>Chemistry</td>\n",
       "        <td>CH</td>\n",
       "        <td>469</td>\n",
       "    </tr>\n",
       "    <tr>\n",
       "        <td>Philosophy</td>\n",
       "        <td>PH</td>\n",
       "        <td>463</td>\n",
       "    </tr>\n",
       "    <tr>\n",
       "        <td>Accounting</td>\n",
       "        <td>AC</td>\n",
       "        <td>450</td>\n",
       "    </tr>\n",
       "    <tr>\n",
       "        <td>Economics</td>\n",
       "        <td>EC</td>\n",
       "        <td>422</td>\n",
       "    </tr>\n",
       "    <tr>\n",
       "        <td>Spanish</td>\n",
       "        <td>SP</td>\n",
       "        <td>421</td>\n",
       "    </tr>\n",
       "</table>"
      ],
      "text/plain": [
       "[('Nursing', 'NS', 1340),\n",
       " ('English', 'EN', 937),\n",
       " ('Biology', 'BI', 770),\n",
       " ('Mathematics', 'MA', 660),\n",
       " ('Psychology', 'PY', 549),\n",
       " ('Chemistry', 'CH', 469),\n",
       " ('Philosophy', 'PH', 463),\n",
       " ('Accounting', 'AC', 450),\n",
       " ('Economics', 'EC', 422),\n",
       " ('Spanish', 'SP', 421)]"
      ]
     },
     "execution_count": 5,
     "metadata": {},
     "output_type": "execute_result"
    }
   ],
   "source": [
    "%%sql\n",
    "SELECT ProgramName, ProgramCode, COUNT(DISTINCT ClassID) AS ClassesOffered\n",
    "FROM ClassFactTable \n",
    "    LEFT JOIN ProgramDimension USING (ProgramID)\n",
    "GROUP BY ProgramCode\n",
    "ORDER BY COUNT(DISTINCT ClassID)DESC\n",
    "LIMIT 10;"
   ]
  },
  {
   "cell_type": "markdown",
   "metadata": {},
   "source": [
    "- __The Nursing program also has the greatest number of classes offered, 1340, followed by English and Biology__"
   ]
  },
  {
   "cell_type": "markdown",
   "metadata": {},
   "source": [
    "### __2. Which course has the most classes offered?__"
   ]
  },
  {
   "cell_type": "markdown",
   "metadata": {},
   "source": [
    "- This tells us which course at Fairfield offerest the most classes.\n",
    "- Going off the previous query, this can further our analysis to which classes are offered the most, and if this number can be decreased or should be increased."
   ]
  },
  {
   "cell_type": "code",
   "execution_count": 6,
   "metadata": {},
   "outputs": [
    {
     "name": "stdout",
     "output_type": "stream",
     "text": [
      " * sqlite:///CourseDataWarehouse.db\n",
      "Done.\n"
     ]
    },
    {
     "data": {
      "text/html": [
       "<table>\n",
       "    <tr>\n",
       "        <th>Title</th>\n",
       "        <th>ClassesOffered</th>\n",
       "    </tr>\n",
       "    <tr>\n",
       "        <td>Texts and Contexts II: Writing About Literature</td>\n",
       "        <td>272</td>\n",
       "    </tr>\n",
       "    <tr>\n",
       "        <td>Texts and Contexts I: Writing as Craft and Inquiry</td>\n",
       "        <td>258</td>\n",
       "    </tr>\n",
       "    <tr>\n",
       "        <td>Introduction to Philosophy</td>\n",
       "        <td>213</td>\n",
       "    </tr>\n",
       "    <tr>\n",
       "        <td>Origins of the Modern World Since 1500</td>\n",
       "        <td>182</td>\n",
       "    </tr>\n",
       "    <tr>\n",
       "        <td>First Year Experience</td>\n",
       "        <td>156</td>\n",
       "    </tr>\n",
       "    <tr>\n",
       "        <td>Mental Health Nursing Clinical</td>\n",
       "        <td>129</td>\n",
       "    </tr>\n",
       "    <tr>\n",
       "        <td>Accelerated Statistics</td>\n",
       "        <td>120</td>\n",
       "    </tr>\n",
       "    <tr>\n",
       "        <td>Introduction to Microeconomics</td>\n",
       "        <td>120</td>\n",
       "    </tr>\n",
       "    <tr>\n",
       "        <td>Pediatric Nursing Clinical</td>\n",
       "        <td>114</td>\n",
       "    </tr>\n",
       "    <tr>\n",
       "        <td>Introduction to Macroeconomics</td>\n",
       "        <td>102</td>\n",
       "    </tr>\n",
       "</table>"
      ],
      "text/plain": [
       "[('Texts and Contexts II: Writing About Literature', 272),\n",
       " ('Texts and Contexts I: Writing as Craft and Inquiry', 258),\n",
       " ('Introduction to Philosophy', 213),\n",
       " ('Origins of the Modern World Since 1500', 182),\n",
       " ('First Year Experience', 156),\n",
       " ('Mental Health Nursing Clinical', 129),\n",
       " ('Accelerated Statistics', 120),\n",
       " ('Introduction to Microeconomics', 120),\n",
       " ('Pediatric Nursing Clinical', 114),\n",
       " ('Introduction to Macroeconomics', 102)]"
      ]
     },
     "execution_count": 6,
     "metadata": {},
     "output_type": "execute_result"
    }
   ],
   "source": [
    "%%sql\n",
    "SELECT DISTINCT(Title), COUNT(DISTINCT ClassID) AS ClassesOffered\n",
    "FROM ClassFactTable \n",
    "GROUP BY Title\n",
    "ORDER BY COUNT(DISTINCT ClassID) DESC\n",
    "LIMIT 10;"
   ]
  },
  {
   "cell_type": "markdown",
   "metadata": {},
   "source": [
    "__- Texts and Contexts II: Writing About Literature & exts and Contexts I: Writing as Craft and Inquiry have offered the msot classes over the past few years__"
   ]
  },
  {
   "cell_type": "markdown",
   "metadata": {},
   "source": [
    "### __3. What term are the most courses offered?__"
   ]
  },
  {
   "cell_type": "markdown",
   "metadata": {},
   "source": [
    "- By looking into the number of classes offered in comparision to the term and year, we can see how classes have either increased or decreased over the years.\n",
    "- It shows the growth of the school over the years, and can help with determining if the class growth is relative to the student and profit growth."
   ]
  },
  {
   "cell_type": "code",
   "execution_count": 7,
   "metadata": {},
   "outputs": [
    {
     "name": "stdout",
     "output_type": "stream",
     "text": [
      " * sqlite:///CourseDataWarehouse.db\n",
      "Done.\n"
     ]
    },
    {
     "data": {
      "text/html": [
       "<table>\n",
       "    <tr>\n",
       "        <th>Term</th>\n",
       "        <th>NumberOfClasses</th>\n",
       "    </tr>\n",
       "    <tr>\n",
       "        <td>Spring2019</td>\n",
       "        <td>2749</td>\n",
       "    </tr>\n",
       "    <tr>\n",
       "        <td>Spring2018</td>\n",
       "        <td>2562</td>\n",
       "    </tr>\n",
       "    <tr>\n",
       "        <td>Spring2017</td>\n",
       "        <td>2550</td>\n",
       "    </tr>\n",
       "    <tr>\n",
       "        <td>Spring2015</td>\n",
       "        <td>2540</td>\n",
       "    </tr>\n",
       "    <tr>\n",
       "        <td>Spring2016</td>\n",
       "        <td>2476</td>\n",
       "    </tr>\n",
       "    <tr>\n",
       "        <td>Fall2018</td>\n",
       "        <td>2340</td>\n",
       "    </tr>\n",
       "    <tr>\n",
       "        <td>Fall2016</td>\n",
       "        <td>2268</td>\n",
       "    </tr>\n",
       "    <tr>\n",
       "        <td>Fall2014</td>\n",
       "        <td>2263</td>\n",
       "    </tr>\n",
       "    <tr>\n",
       "        <td>Fall2017</td>\n",
       "        <td>2240</td>\n",
       "    </tr>\n",
       "    <tr>\n",
       "        <td>Fall2015</td>\n",
       "        <td>2217</td>\n",
       "    </tr>\n",
       "    <tr>\n",
       "        <td>Summer2018</td>\n",
       "        <td>760</td>\n",
       "    </tr>\n",
       "    <tr>\n",
       "        <td>Summer2016</td>\n",
       "        <td>722</td>\n",
       "    </tr>\n",
       "    <tr>\n",
       "        <td>Summer2017</td>\n",
       "        <td>712</td>\n",
       "    </tr>\n",
       "    <tr>\n",
       "        <td>Summer2015</td>\n",
       "        <td>677</td>\n",
       "    </tr>\n",
       "    <tr>\n",
       "        <td>Winter2017</td>\n",
       "        <td>66</td>\n",
       "    </tr>\n",
       "    <tr>\n",
       "        <td>Winter2018</td>\n",
       "        <td>48</td>\n",
       "    </tr>\n",
       "    <tr>\n",
       "        <td>Winter2016</td>\n",
       "        <td>47</td>\n",
       "    </tr>\n",
       "    <tr>\n",
       "        <td>Winter2015</td>\n",
       "        <td>44</td>\n",
       "    </tr>\n",
       "    <tr>\n",
       "        <td>SpringBreak2017</td>\n",
       "        <td>5</td>\n",
       "    </tr>\n",
       "</table>"
      ],
      "text/plain": [
       "[('Spring2019', 2749),\n",
       " ('Spring2018', 2562),\n",
       " ('Spring2017', 2550),\n",
       " ('Spring2015', 2540),\n",
       " ('Spring2016', 2476),\n",
       " ('Fall2018', 2340),\n",
       " ('Fall2016', 2268),\n",
       " ('Fall2014', 2263),\n",
       " ('Fall2017', 2240),\n",
       " ('Fall2015', 2217),\n",
       " ('Summer2018', 760),\n",
       " ('Summer2016', 722),\n",
       " ('Summer2017', 712),\n",
       " ('Summer2015', 677),\n",
       " ('Winter2017', 66),\n",
       " ('Winter2018', 48),\n",
       " ('Winter2016', 47),\n",
       " ('Winter2015', 44),\n",
       " ('SpringBreak2017', 5)]"
      ]
     },
     "execution_count": 7,
     "metadata": {},
     "output_type": "execute_result"
    }
   ],
   "source": [
    "%%sql\n",
    "SELECT Term, COUNT(Term) AS NumberOfClasses\n",
    "FROM ClassFactTable\n",
    "GROUP BY Term\n",
    "ORDER BY COUNT(Term) DESC\n",
    ";"
   ]
  },
  {
   "cell_type": "markdown",
   "metadata": {},
   "source": [
    "### __4. Which classes leave the most seats open?__"
   ]
  },
  {
   "cell_type": "markdown",
   "metadata": {},
   "source": [
    "- This can help analyze whether the number of classes being offered needs to be decresed due to the classes not being filled.\n",
    "- There are many classes that are over filled with students on wait lists, and there are also some with only a few students registered.\n",
    "- Can the classes that are not getting filled have less offerings in order for the courses that are filled to have more offerings?"
   ]
  },
  {
   "cell_type": "code",
   "execution_count": 8,
   "metadata": {},
   "outputs": [
    {
     "name": "stdout",
     "output_type": "stream",
     "text": [
      " * sqlite:///CourseDataWarehouse.db\n",
      "Done.\n"
     ]
    },
    {
     "data": {
      "text/html": [
       "<table>\n",
       "    <tr>\n",
       "        <th>ProgramCode</th>\n",
       "        <th>Title</th>\n",
       "        <th>Capacity</th>\n",
       "        <th>Actual</th>\n",
       "        <th>Remaining</th>\n",
       "    </tr>\n",
       "    <tr>\n",
       "        <td>EC</td>\n",
       "        <td>Engineering Applications of Numerical Methods</td>\n",
       "        <td>65</td>\n",
       "        <td>20</td>\n",
       "        <td>45</td>\n",
       "    </tr>\n",
       "    <tr>\n",
       "        <td>TA</td>\n",
       "        <td>Theatre Fairfield: Performance Workshop</td>\n",
       "        <td>50</td>\n",
       "        <td>8</td>\n",
       "        <td>42</td>\n",
       "    </tr>\n",
       "    <tr>\n",
       "        <td>TA</td>\n",
       "        <td>Theatre Fairfield: Performance Practicum</td>\n",
       "        <td>50</td>\n",
       "        <td>9</td>\n",
       "        <td>41</td>\n",
       "    </tr>\n",
       "    <tr>\n",
       "        <td>MU</td>\n",
       "        <td>Instrumental Ensembles</td>\n",
       "        <td>50</td>\n",
       "        <td>13</td>\n",
       "        <td>37</td>\n",
       "    </tr>\n",
       "    <tr>\n",
       "        <td>MU</td>\n",
       "        <td>University Symphony Orchestra</td>\n",
       "        <td>50</td>\n",
       "        <td>16</td>\n",
       "        <td>34</td>\n",
       "    </tr>\n",
       "    <tr>\n",
       "        <td>MA</td>\n",
       "        <td>Calculus II for Chemistry, Engineering, and Physics Majors</td>\n",
       "        <td>30</td>\n",
       "        <td>5</td>\n",
       "        <td>25</td>\n",
       "    </tr>\n",
       "    <tr>\n",
       "        <td>CH</td>\n",
       "        <td>General Chemistry II</td>\n",
       "        <td>35</td>\n",
       "        <td>11</td>\n",
       "        <td>24</td>\n",
       "    </tr>\n",
       "    <tr>\n",
       "        <td>ME</td>\n",
       "        <td>Heat and Mass Transfer</td>\n",
       "        <td>25</td>\n",
       "        <td>1</td>\n",
       "        <td>24</td>\n",
       "    </tr>\n",
       "    <tr>\n",
       "        <td>AY</td>\n",
       "        <td>Special Topics: North American Indians</td>\n",
       "        <td>28</td>\n",
       "        <td>4</td>\n",
       "        <td>24</td>\n",
       "    </tr>\n",
       "    <tr>\n",
       "        <td>ME</td>\n",
       "        <td>Vibration Analysis</td>\n",
       "        <td>25</td>\n",
       "        <td>1</td>\n",
       "        <td>24</td>\n",
       "    </tr>\n",
       "</table>"
      ],
      "text/plain": [
       "[('EC', 'Engineering Applications of Numerical Methods', 65, 20, 45),\n",
       " ('TA', 'Theatre Fairfield: Performance Workshop', 50, 8, 42),\n",
       " ('TA', 'Theatre Fairfield: Performance Practicum', 50, 9, 41),\n",
       " ('MU', 'Instrumental Ensembles', 50, 13, 37),\n",
       " ('MU', 'University Symphony Orchestra', 50, 16, 34),\n",
       " ('MA', 'Calculus II for Chemistry, Engineering, and Physics Majors', 30, 5, 25),\n",
       " ('CH', 'General Chemistry II', 35, 11, 24),\n",
       " ('ME', 'Heat and Mass Transfer', 25, 1, 24),\n",
       " ('AY', 'Special Topics: North American Indians', 28, 4, 24),\n",
       " ('ME', 'Vibration Analysis', 25, 1, 24)]"
      ]
     },
     "execution_count": 8,
     "metadata": {},
     "output_type": "execute_result"
    }
   ],
   "source": [
    "%%sql\n",
    "SELECT ProgramCode, Title, Capacity, Actual, Remaining\n",
    "FROM ClassFactTable\n",
    "    JOIN ProgramDimension USING (ProgramID)\n",
    "WHERE Actual < Remaining\n",
    "GROUP BY Title\n",
    "ORDER BY Remaining DESC\n",
    "LIMIT 10;"
   ]
  },
  {
   "cell_type": "code",
   "execution_count": 9,
   "metadata": {},
   "outputs": [
    {
     "name": "stdout",
     "output_type": "stream",
     "text": [
      " * sqlite:///CourseDataWarehouse.db\n",
      "Done.\n"
     ]
    },
    {
     "data": {
      "text/plain": [
       "[]"
      ]
     },
     "execution_count": 9,
     "metadata": {},
     "output_type": "execute_result"
    }
   ],
   "source": [
    "%%sql\n",
    "vacuum;"
   ]
  },
  {
   "cell_type": "code",
   "execution_count": null,
   "metadata": {},
   "outputs": [],
   "source": []
  }
 ],
 "metadata": {
  "kernelspec": {
   "display_name": "Python 3",
   "language": "python",
   "name": "python3"
  },
  "language_info": {
   "codemirror_mode": {
    "name": "ipython",
    "version": 3
   },
   "file_extension": ".py",
   "mimetype": "text/x-python",
   "name": "python",
   "nbconvert_exporter": "python",
   "pygments_lexer": "ipython3",
   "version": "3.6.7"
  }
 },
 "nbformat": 4,
 "nbformat_minor": 4
}
