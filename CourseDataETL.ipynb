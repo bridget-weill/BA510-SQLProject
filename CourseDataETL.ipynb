{
 "cells": [
  {
   "cell_type": "markdown",
   "metadata": {},
   "source": [
    "# __Course Data ETL:__"
   ]
  },
  {
   "cell_type": "markdown",
   "metadata": {},
   "source": [
    "__Import Packages__"
   ]
  },
  {
   "cell_type": "code",
   "execution_count": 1,
   "metadata": {},
   "outputs": [],
   "source": [
    "%load_ext sql\n",
    "import pandas as pd\n",
    "import sqlite3"
   ]
  },
  {
   "cell_type": "code",
   "execution_count": 2,
   "metadata": {},
   "outputs": [],
   "source": [
    "%sql sqlite:///CourseData.db\n",
    "conn = sqlite3.connect('CourseData.db')"
   ]
  },
  {
   "cell_type": "markdown",
   "metadata": {},
   "source": [
    "__Create Tables__"
   ]
  },
  {
   "cell_type": "code",
   "execution_count": 3,
   "metadata": {},
   "outputs": [
    {
     "name": "stdout",
     "output_type": "stream",
     "text": [
      " * sqlite:///CourseData.db\n",
      "Done.\n",
      "Done.\n",
      "Done.\n",
      "Done.\n",
      "Done.\n",
      "Done.\n",
      "Done.\n",
      "Done.\n",
      "Done.\n",
      "Done.\n",
      "Done.\n",
      "Done.\n",
      "Done.\n",
      "Done.\n",
      "7 rows affected.\n"
     ]
    },
    {
     "data": {
      "text/plain": [
       "[]"
      ]
     },
     "execution_count": 3,
     "metadata": {},
     "output_type": "execute_result"
    }
   ],
   "source": [
    "%%sql\n",
    "DROP TABLE IF EXISTS Professor;\n",
    "CREATE TABLE Professor (\n",
    "    ProfessorID INTEGER PRIMARY KEY,\n",
    "    Name TEXT NOT NULL\n",
    ");\n",
    "DROP TABLE IF EXISTS Location;\n",
    "CREATE TABLE Location (\n",
    "    LocationID INTEGER PRIMARY KEY,\n",
    "    Location TEXT NOT NULL\n",
    ");\n",
    "DROP TABLE IF EXISTS Program;\n",
    "CREATE TABLE Program (\n",
    "    ProgramID INTEGER PRIMARY KEY,\n",
    "    ProgramName TEXT NOT NULL,\n",
    "    ProgramCode TEXT NOT NULL\n",
    ");\n",
    "DROP TABLE IF EXISTS CatalogCourse;\n",
    "CREATE TABLE CatalogCourse (\n",
    "    CatalogCourseID INTEGER PRIMARY KEY,\n",
    "    CatalogYear TEXT NOT NULL,\n",
    "    CatalogID TEXT NOT NULL,\n",
    "    ProgramID INTEGER,\n",
    "    CourseTitle TEXT NOT NULL,\n",
    "    Credits REAL,\n",
    "    Prereqs TEXT,\n",
    "    Coreqs TEXT,\n",
    "    Fees TEXT,\n",
    "    Attributes TEXT,\n",
    "    Description TEXT\n",
    ");\n",
    "DROP TABLE IF EXISTS Class;\n",
    "CREATE TABLE Class (\n",
    "    ClassID INTEGER PRIMARY KEY,\n",
    "    CatalogID TEXT NOT NULL,\n",
    "    CatalogCourseID INTEGER,\n",
    "    ProfessorID INTEGER,\n",
    "    Term TEXT NOT NULL,\n",
    "    CRN INTEGER NOT NULL,\n",
    "    Section TEXT NOT NULL,\n",
    "    Credits INTEGER,\n",
    "    Title TEXT NOT NULL,\n",
    "    Timecodes TEXT,\n",
    "    Meetings TEXT,\n",
    "    Capacity INTEGER NOT NULL,\n",
    "    Actual INTEGER NOT NULL,\n",
    "    Remaining INTEGER NOT NULL\n",
    ");\n",
    "DROP TABLE IF EXISTS Meeting;\n",
    "CREATE TABLE Meeting (\n",
    "    MeetingID INTEGER PRIMARY KEY,\n",
    "    ClassID INTEGER NOT NULL,\n",
    "    LocationID INTEGER NOT NULL,\n",
    "    Day TEXT, \n",
    "    StartTime TEXT NOT NULL,\n",
    "    EndTime TEXT NOT NULL\n",
    ");\n",
    "\n",
    "DROP TABLE IF EXISTS TermCatalogYear;\n",
    "CREATE TABLE TermCatalogYear (\n",
    "    CatalogYear TEXT NOT NULL,\n",
    "    Term TEXT NOT NULL\n",
    ");\n",
    "\n",
    "INSERT INTO TermCatalogYear (Term, CatalogYear) VALUES \n",
    "('Fall2017','2017_2018'),('Winter2018','2017_2018'),('Spring2018','2017_2018'),('Summer2018','2017_2018'),('Fall2018','2018_2019'),\n",
    "('Winter2019','2018_2019'),('Spring2019','2018_2019');"
   ]
  },
  {
   "cell_type": "markdown",
   "metadata": {},
   "source": [
    "## Extract from CSV"
   ]
  },
  {
   "cell_type": "code",
   "execution_count": 4,
   "metadata": {},
   "outputs": [],
   "source": [
    "# Class & Meeting CSVs\n",
    "\n",
    "terms = ['Fall2014','Fall2015','Fall2016','Fall2017','Fall2018',\n",
    "         'Spring2015','Spring2016','Spring2017','Spring2018','Spring2019',\n",
    "         'SpringBreak2017',\n",
    "         'Summer2015','Summer2016','Summer2017','Summer2018',\n",
    "         'Winter2015','Winter2016','Winter2017','Winter2018']\n",
    "\n",
    "for term in terms:\n",
    "    filepath = 'SourceData/'+term+'/courses.csv'\n",
    "    data = pd.read_csv(filepath)\n",
    "    data.to_sql('import_courses',conn,if_exists='append',index=False)\n",
    "    \n",
    "    filepath = 'SourceData/'+term+'/course_meetings.csv'\n",
    "    data = pd.read_csv(filepath)\n",
    "    data.to_sql('import_course_meetings',conn,if_exists='append',index=False)"
   ]
  },
  {
   "cell_type": "code",
   "execution_count": 5,
   "metadata": {},
   "outputs": [
    {
     "name": "stdout",
     "output_type": "stream",
     "text": [
      " * sqlite:///CourseData.db\n",
      "Done.\n"
     ]
    },
    {
     "data": {
      "text/html": [
       "<table>\n",
       "    <tr>\n",
       "        <th>RawCount</th>\n",
       "        <th>DistinctCount</th>\n",
       "    </tr>\n",
       "    <tr>\n",
       "        <td>15937</td>\n",
       "        <td>15937</td>\n",
       "    </tr>\n",
       "</table>"
      ],
      "text/plain": [
       "[(15937, 15937)]"
      ]
     },
     "execution_count": 5,
     "metadata": {},
     "output_type": "execute_result"
    }
   ],
   "source": [
    "%%sql\n",
    "SELECT \n",
    "    (SELECT Count(*) FROM import_courses) as 'RawCount',\n",
    "    (SELECT Count(*) FROM (SELECT DISTINCT * FROM import_courses)) as 'DistinctCount'"
   ]
  },
  {
   "cell_type": "code",
   "execution_count": 6,
   "metadata": {},
   "outputs": [
    {
     "name": "stdout",
     "output_type": "stream",
     "text": [
      " * sqlite:///CourseData.db\n",
      "Done.\n"
     ]
    },
    {
     "data": {
      "text/html": [
       "<table>\n",
       "    <tr>\n",
       "        <th>RawCount</th>\n",
       "        <th>DistinctCount</th>\n",
       "    </tr>\n",
       "    <tr>\n",
       "        <td>284907</td>\n",
       "        <td>284847</td>\n",
       "    </tr>\n",
       "</table>"
      ],
      "text/plain": [
       "[(284907, 284847)]"
      ]
     },
     "execution_count": 6,
     "metadata": {},
     "output_type": "execute_result"
    }
   ],
   "source": [
    "%%sql\n",
    "SELECT \n",
    "    (SELECT Count(*) FROM import_course_meetings) as 'RawCount',\n",
    "    (SELECT Count(*) FROM (SELECT DISTINCT * FROM import_course_meetings)) as 'DistinctCount'"
   ]
  },
  {
   "cell_type": "code",
   "execution_count": 7,
   "metadata": {},
   "outputs": [],
   "source": [
    "# Catalog CSV\n",
    "catalog_years = ['2017_2018', '2018_2019']\n",
    "\n",
    "for cat_year in catalog_years:\n",
    "    filepath = 'SourceData/Catalogs/CourseCatalog'+cat_year+'.csv'\n",
    "    data = pd.read_csv(filepath)\n",
    "    data['cat_year'] = cat_year\n",
    "    data.to_sql('import_catalog',conn,if_exists='append',index=False)"
   ]
  },
  {
   "cell_type": "code",
   "execution_count": 8,
   "metadata": {},
   "outputs": [
    {
     "name": "stdout",
     "output_type": "stream",
     "text": [
      " * sqlite:///CourseData.db\n",
      "Done.\n"
     ]
    },
    {
     "data": {
      "text/html": [
       "<table>\n",
       "    <tr>\n",
       "        <th>RawCount</th>\n",
       "        <th>DistinctCount</th>\n",
       "    </tr>\n",
       "    <tr>\n",
       "        <td>4440</td>\n",
       "        <td>4440</td>\n",
       "    </tr>\n",
       "</table>"
      ],
      "text/plain": [
       "[(4440, 4440)]"
      ]
     },
     "execution_count": 8,
     "metadata": {},
     "output_type": "execute_result"
    }
   ],
   "source": [
    "%%sql\n",
    "SELECT \n",
    "    (SELECT Count(*) FROM import_catalog) as 'RawCount',\n",
    "    (SELECT Count(*) FROM (SELECT DISTINCT * FROM import_catalog)) as 'DistinctCount';"
   ]
  },
  {
   "cell_type": "markdown",
   "metadata": {},
   "source": [
    "## Import Data into ERD Tables"
   ]
  },
  {
   "cell_type": "markdown",
   "metadata": {},
   "source": [
    "- Ordered by entity strength. First do the tables with no foreign keys. When creating a table, be sure the tables foreign keys have already been created first."
   ]
  },
  {
   "cell_type": "code",
   "execution_count": 9,
   "metadata": {},
   "outputs": [
    {
     "name": "stdout",
     "output_type": "stream",
     "text": [
      " * sqlite:///CourseData.db\n",
      "0 rows affected.\n",
      "1095 rows affected.\n"
     ]
    },
    {
     "data": {
      "text/plain": [
       "[]"
      ]
     },
     "execution_count": 9,
     "metadata": {},
     "output_type": "execute_result"
    }
   ],
   "source": [
    "%%sql\n",
    "\n",
    "DELETE FROM Professor;\n",
    "\n",
    "INSERT INTO Professor (Name)\n",
    "SELECT DISTINCT primary_instructor\n",
    "FROM import_courses\n",
    "WHERE primary_instructor != 'TBA' AND primary_instructor NOT LIKE '%/%';"
   ]
  },
  {
   "cell_type": "code",
   "execution_count": 10,
   "metadata": {},
   "outputs": [
    {
     "name": "stdout",
     "output_type": "stream",
     "text": [
      " * sqlite:///CourseData.db\n",
      "Done.\n"
     ]
    },
    {
     "data": {
      "text/html": [
       "<table>\n",
       "    <tr>\n",
       "        <th>ProfessorID</th>\n",
       "        <th>Name</th>\n",
       "    </tr>\n",
       "    <tr>\n",
       "        <td>1</td>\n",
       "        <td>Michael P.  Coyne</td>\n",
       "    </tr>\n",
       "    <tr>\n",
       "        <td>2</td>\n",
       "        <td>Rebecca I.  Bloch</td>\n",
       "    </tr>\n",
       "    <tr>\n",
       "        <td>3</td>\n",
       "        <td>Paul   Caster</td>\n",
       "    </tr>\n",
       "    <tr>\n",
       "        <td>4</td>\n",
       "        <td>Jo Ann   Drusbosky</td>\n",
       "    </tr>\n",
       "    <tr>\n",
       "        <td>5</td>\n",
       "        <td>Arleen N.  Kardos</td>\n",
       "    </tr>\n",
       "    <tr>\n",
       "        <td>6</td>\n",
       "        <td>Scott M  Brenner</td>\n",
       "    </tr>\n",
       "    <tr>\n",
       "        <td>7</td>\n",
       "        <td>Kevin C.  Cassidy</td>\n",
       "    </tr>\n",
       "    <tr>\n",
       "        <td>8</td>\n",
       "        <td>Bruce   Bradford</td>\n",
       "    </tr>\n",
       "    <tr>\n",
       "        <td>9</td>\n",
       "        <td>Milo W.  Peck</td>\n",
       "    </tr>\n",
       "    <tr>\n",
       "        <td>10</td>\n",
       "        <td>Stephen E.  Yost</td>\n",
       "    </tr>\n",
       "</table>"
      ],
      "text/plain": [
       "[(1, 'Michael P.  Coyne'),\n",
       " (2, 'Rebecca I.  Bloch'),\n",
       " (3, 'Paul   Caster'),\n",
       " (4, 'Jo Ann   Drusbosky'),\n",
       " (5, 'Arleen N.  Kardos'),\n",
       " (6, 'Scott M  Brenner'),\n",
       " (7, 'Kevin C.  Cassidy'),\n",
       " (8, 'Bruce   Bradford'),\n",
       " (9, 'Milo W.  Peck'),\n",
       " (10, 'Stephen E.  Yost')]"
      ]
     },
     "execution_count": 10,
     "metadata": {},
     "output_type": "execute_result"
    }
   ],
   "source": [
    "%%sql\n",
    "SELECT *\n",
    "FROM Professor\n",
    "LIMIT 10;"
   ]
  },
  {
   "cell_type": "code",
   "execution_count": 11,
   "metadata": {},
   "outputs": [
    {
     "name": "stdout",
     "output_type": "stream",
     "text": [
      " * sqlite:///CourseData.db\n",
      "0 rows affected.\n",
      "207 rows affected.\n"
     ]
    },
    {
     "data": {
      "text/plain": [
       "[]"
      ]
     },
     "execution_count": 11,
     "metadata": {},
     "output_type": "execute_result"
    }
   ],
   "source": [
    "%%sql\n",
    "\n",
    "DELETE FROM Location;\n",
    "\n",
    "INSERT INTO Location (Location)\n",
    "SELECT DISTINCT location\n",
    "FROM import_course_meetings"
   ]
  },
  {
   "cell_type": "code",
   "execution_count": 12,
   "metadata": {},
   "outputs": [
    {
     "name": "stdout",
     "output_type": "stream",
     "text": [
      " * sqlite:///CourseData.db\n",
      "Done.\n"
     ]
    },
    {
     "data": {
      "text/html": [
       "<table>\n",
       "    <tr>\n",
       "        <th>LocationID</th>\n",
       "        <th>Location</th>\n",
       "    </tr>\n",
       "    <tr>\n",
       "        <td>1</td>\n",
       "        <td>DSB 105</td>\n",
       "    </tr>\n",
       "    <tr>\n",
       "        <td>2</td>\n",
       "        <td>DSB 111</td>\n",
       "    </tr>\n",
       "    <tr>\n",
       "        <td>3</td>\n",
       "        <td>DSB 110A</td>\n",
       "    </tr>\n",
       "    <tr>\n",
       "        <td>4</td>\n",
       "        <td>DSB 108</td>\n",
       "    </tr>\n",
       "    <tr>\n",
       "        <td>5</td>\n",
       "        <td>DSB 110B</td>\n",
       "    </tr>\n",
       "    <tr>\n",
       "        <td>6</td>\n",
       "        <td>DSB 104</td>\n",
       "    </tr>\n",
       "    <tr>\n",
       "        <td>7</td>\n",
       "        <td>DSB 112</td>\n",
       "    </tr>\n",
       "    <tr>\n",
       "        <td>8</td>\n",
       "        <td>DSB 109</td>\n",
       "    </tr>\n",
       "    <tr>\n",
       "        <td>9</td>\n",
       "        <td>DSB 115</td>\n",
       "    </tr>\n",
       "    <tr>\n",
       "        <td>10</td>\n",
       "        <td>DSB 2109A</td>\n",
       "    </tr>\n",
       "</table>"
      ],
      "text/plain": [
       "[(1, 'DSB 105'),\n",
       " (2, 'DSB 111'),\n",
       " (3, 'DSB 110A'),\n",
       " (4, 'DSB 108'),\n",
       " (5, 'DSB 110B'),\n",
       " (6, 'DSB 104'),\n",
       " (7, 'DSB 112'),\n",
       " (8, 'DSB 109'),\n",
       " (9, 'DSB 115'),\n",
       " (10, 'DSB 2109A')]"
      ]
     },
     "execution_count": 12,
     "metadata": {},
     "output_type": "execute_result"
    }
   ],
   "source": [
    "%%sql\n",
    "SELECT *\n",
    "FROM Location\n",
    "LIMIT 10;"
   ]
  },
  {
   "cell_type": "code",
   "execution_count": 13,
   "metadata": {},
   "outputs": [
    {
     "name": "stdout",
     "output_type": "stream",
     "text": [
      " * sqlite:///CourseData.db\n",
      "0 rows affected.\n",
      "83 rows affected.\n"
     ]
    },
    {
     "data": {
      "text/plain": [
       "[]"
      ]
     },
     "execution_count": 13,
     "metadata": {},
     "output_type": "execute_result"
    }
   ],
   "source": [
    "%%sql\n",
    "\n",
    "DELETE FROM Program;\n",
    "\n",
    "INSERT INTO Program (ProgramName, ProgramCode)\n",
    "SELECT DISTINCT program_name, program_code\n",
    "FROM import_catalog;"
   ]
  },
  {
   "cell_type": "code",
   "execution_count": 14,
   "metadata": {},
   "outputs": [
    {
     "name": "stdout",
     "output_type": "stream",
     "text": [
      " * sqlite:///CourseData.db\n",
      "Done.\n"
     ]
    },
    {
     "data": {
      "text/html": [
       "<table>\n",
       "    <tr>\n",
       "        <th>ProgramID</th>\n",
       "        <th>ProgramName</th>\n",
       "        <th>ProgramCode</th>\n",
       "    </tr>\n",
       "    <tr>\n",
       "        <td>1</td>\n",
       "        <td>Asian Studies</td>\n",
       "        <td>AN</td>\n",
       "    </tr>\n",
       "    <tr>\n",
       "        <td>2</td>\n",
       "        <td>Business</td>\n",
       "        <td>BU</td>\n",
       "    </tr>\n",
       "    <tr>\n",
       "        <td>3</td>\n",
       "        <td>Black Studies</td>\n",
       "        <td>BL</td>\n",
       "    </tr>\n",
       "    <tr>\n",
       "        <td>4</td>\n",
       "        <td>Bioengineering</td>\n",
       "        <td>BEN</td>\n",
       "    </tr>\n",
       "    <tr>\n",
       "        <td>5</td>\n",
       "        <td>Arabic</td>\n",
       "        <td>AR</td>\n",
       "    </tr>\n",
       "    <tr>\n",
       "        <td>6</td>\n",
       "        <td>Anthropology</td>\n",
       "        <td>AY</td>\n",
       "    </tr>\n",
       "    <tr>\n",
       "        <td>7</td>\n",
       "        <td>American Studies</td>\n",
       "        <td>AS</td>\n",
       "    </tr>\n",
       "    <tr>\n",
       "        <td>8</td>\n",
       "        <td>Japanese</td>\n",
       "        <td>JA</td>\n",
       "    </tr>\n",
       "    <tr>\n",
       "        <td>9</td>\n",
       "        <td>Art History</td>\n",
       "        <td>AH</td>\n",
       "    </tr>\n",
       "    <tr>\n",
       "        <td>10</td>\n",
       "        <td>Applied Ethics</td>\n",
       "        <td>AE</td>\n",
       "    </tr>\n",
       "</table>"
      ],
      "text/plain": [
       "[(1, 'Asian Studies', 'AN'),\n",
       " (2, 'Business', 'BU'),\n",
       " (3, 'Black Studies', 'BL'),\n",
       " (4, 'Bioengineering', 'BEN'),\n",
       " (5, 'Arabic', 'AR'),\n",
       " (6, 'Anthropology', 'AY'),\n",
       " (7, 'American Studies', 'AS'),\n",
       " (8, 'Japanese', 'JA'),\n",
       " (9, 'Art History', 'AH'),\n",
       " (10, 'Applied Ethics', 'AE')]"
      ]
     },
     "execution_count": 14,
     "metadata": {},
     "output_type": "execute_result"
    }
   ],
   "source": [
    "%%sql\n",
    "SELECT *\n",
    "FROM Program\n",
    "LIMIT 10;"
   ]
  },
  {
   "cell_type": "code",
   "execution_count": 15,
   "metadata": {},
   "outputs": [
    {
     "name": "stdout",
     "output_type": "stream",
     "text": [
      " * sqlite:///CourseData.db\n",
      "0 rows affected.\n",
      "4440 rows affected.\n"
     ]
    },
    {
     "data": {
      "text/plain": [
       "[]"
      ]
     },
     "execution_count": 15,
     "metadata": {},
     "output_type": "execute_result"
    }
   ],
   "source": [
    "%%sql\n",
    "\n",
    "DELETE FROM CatalogCourse;\n",
    "\n",
    "INSERT INTO CatalogCourse (CatalogID, CatalogYear, ProgramID, CourseTitle, Credits, Prereqs, Coreqs, Fees, Attributes, Description)\n",
    "SELECT DISTINCT catalog_id, cat_year, ProgramID, course_title, credits, prereqs, coreqs, fees, attributes, description\n",
    "FROM import_catalog\n",
    "    JOIN Program ON (program_code = ProgramCode)"
   ]
  },
  {
   "cell_type": "code",
   "execution_count": 16,
   "metadata": {},
   "outputs": [
    {
     "name": "stdout",
     "output_type": "stream",
     "text": [
      " * sqlite:///CourseData.db\n",
      "Done.\n"
     ]
    },
    {
     "data": {
      "text/html": [
       "<table>\n",
       "    <tr>\n",
       "        <th>CatalogCourseID</th>\n",
       "        <th>CatalogYear</th>\n",
       "        <th>CatalogID</th>\n",
       "        <th>ProgramID</th>\n",
       "        <th>CourseTitle</th>\n",
       "        <th>Credits</th>\n",
       "        <th>Prereqs</th>\n",
       "        <th>Coreqs</th>\n",
       "        <th>Fees</th>\n",
       "        <th>Attributes</th>\n",
       "        <th>Description</th>\n",
       "    </tr>\n",
       "    <tr>\n",
       "        <td>1</td>\n",
       "        <td>2017_2018</td>\n",
       "        <td>AN 0301</td>\n",
       "        <td>1</td>\n",
       "        <td>Independent Study</td>\n",
       "        <td>1-3 Credits</td>\n",
       "        <td>None</td>\n",
       "        <td>None</td>\n",
       "        <td>None</td>\n",
       "        <td>None</td>\n",
       "        <td>Students undertake an individualized program of study in consultation with a director from the Asian studies faculty.</td>\n",
       "    </tr>\n",
       "    <tr>\n",
       "        <td>2</td>\n",
       "        <td>2017_2018</td>\n",
       "        <td>AN 0310</td>\n",
       "        <td>1</td>\n",
       "        <td>Asian Studies Seminar</td>\n",
       "        <td>3 Credits</td>\n",
       "        <td>None</td>\n",
       "        <td>None</td>\n",
       "        <td>None</td>\n",
       "        <td>None</td>\n",
       "        <td>This seminar examines selected topics concerning Asia. This course is taught in conjunction with another 100-300 level course from a rotation of course offerings. Consult the Asian Studies director to identify the conjoined course for a given semester. The seminar concentrates on topics within the parameters of the conjoined course syllabus but adds research emphasis. Students registered for this course must complete a research project, to include 300-level research, in addition to the regular research requirements of the conjoined course, and a 25-50 page term paper in substitution of some portion of the conjoined course requirements, as determined by the instructor. Open to juniors and seniors only.</td>\n",
       "    </tr>\n",
       "    <tr>\n",
       "        <td>3</td>\n",
       "        <td>2017_2018</td>\n",
       "        <td>BU 0211</td>\n",
       "        <td>2</td>\n",
       "        <td>Legal Environment of Business</td>\n",
       "        <td>3 Credits</td>\n",
       "        <td>Junior standing.</td>\n",
       "        <td>None</td>\n",
       "        <td>None</td>\n",
       "        <td>None</td>\n",
       "        <td>This course examines the broad philosophical as well as practical nature and function of the legal system, and introduces students to the legal and social responsibilities of business. The course includes an introduction to the legal system, the federal courts, Constitutional law, the United States Supreme Court, the civil process, and regulatory areas such as employment discrimination, protection of the environment, and corporate governance and securities markets.</td>\n",
       "    </tr>\n",
       "    <tr>\n",
       "        <td>4</td>\n",
       "        <td>2017_2018</td>\n",
       "        <td>BU 0220</td>\n",
       "        <td>2</td>\n",
       "        <td>Environmental Law and Policy</td>\n",
       "        <td>3 Credits</td>\n",
       "        <td>None</td>\n",
       "        <td>None</td>\n",
       "        <td>None</td>\n",
       "        <td>EVME Environmental Studies Major Elective, EVPE Environmental Studies Elective, EVSS Environmental Studies: Social Science, MGEL Management: General Elective</td>\n",
       "        <td>This course surveys issues arising out of federal laws designed to protect the environment and manage resources. It considers in detail the role of the Environmental Protection Agency in the enforcement of environmental policies arising out of such laws as the National Environmental Policy Act, the Clean Water Act, and the Clear Air Act, among others. The course also considers the impact of Congress, political parties, bureaucracy, and interest groups in shaping environmental policy, giving special attention to the impact of environmental regulation on business and private property rights.</td>\n",
       "    </tr>\n",
       "    <tr>\n",
       "        <td>5</td>\n",
       "        <td>2017_2018</td>\n",
       "        <td>BU 0311</td>\n",
       "        <td>2</td>\n",
       "        <td>The Law of Contracts, Sales, and Property</td>\n",
       "        <td>3 Credits</td>\n",
       "        <td>BU 0211.</td>\n",
       "        <td>None</td>\n",
       "        <td>None</td>\n",
       "        <td>None</td>\n",
       "        <td>This course examines the components of common law contracts including the concepts of offer and acceptance, consideration, capacity and legality, assignment of rights and delegation of duties, as well as discharge of contracts. The course covers Articles 2 and 2A of the Uniform Commercial Code relating to leases, sales of goods, and warranties. The course also considers personal and real property, and bailments.</td>\n",
       "    </tr>\n",
       "    <tr>\n",
       "        <td>6</td>\n",
       "        <td>2017_2018</td>\n",
       "        <td>BU 0312</td>\n",
       "        <td>2</td>\n",
       "        <td>The Law of Business Organizations and Financial Transactions</td>\n",
       "        <td>3 Credits</td>\n",
       "        <td>BU 0211.</td>\n",
       "        <td>None</td>\n",
       "        <td>None</td>\n",
       "        <td>None</td>\n",
       "        <td>This course offers an analysis of legal principles related to the law of agency, sole proprietorships, partnerships, corporations, limited liability companies, and other business forms. The second half of the course addresses several sections of the Uniform Commercial Code, such as negotiable instruments, bank collections and deposits and secured transactions. Finally, the course examines the law of suretyship, debtor-creditor relationships, and bankruptcy.</td>\n",
       "    </tr>\n",
       "    <tr>\n",
       "        <td>7</td>\n",
       "        <td>2017_2018</td>\n",
       "        <td>BU 0320</td>\n",
       "        <td>2</td>\n",
       "        <td>Employment Law and Discrimination in the Workplace</td>\n",
       "        <td>3 Credits</td>\n",
       "        <td>None</td>\n",
       "        <td>None</td>\n",
       "        <td>None</td>\n",
       "        <td>MGEL Management: General Elective, UDIV U.S. Diversity</td>\n",
       "        <td>This course examines a variety of legal issues related to the workplace including the doctrine of employment at will, employee privacy, and the history and development of labor unions and the legal protections afforded by the National Labor Relations Act. A study of the role of the Civil Rights Act of 1964 and the Equal Employment Opportunity Commission in eradicating discrimination based on race, sex, religion, national origin, age, and disability occupies a major portion of the course. Other employment issues include affirmative action, worker safety, and compensation.</td>\n",
       "    </tr>\n",
       "    <tr>\n",
       "        <td>8</td>\n",
       "        <td>2017_2018</td>\n",
       "        <td>BU 0391</td>\n",
       "        <td>2</td>\n",
       "        <td>Seminar in Business Law and Ethics</td>\n",
       "        <td>3 Credits</td>\n",
       "        <td>AE 0291, BU 0211, two additional courses in law or applied ethics.</td>\n",
       "        <td>None</td>\n",
       "        <td>None</td>\n",
       "        <td>None</td>\n",
       "        <td>This interdisciplinary study of these two aspects of the business environment is cross-listed as</td>\n",
       "    </tr>\n",
       "    <tr>\n",
       "        <td>9</td>\n",
       "        <td>2017_2018</td>\n",
       "        <td>BL 0101</td>\n",
       "        <td>3</td>\n",
       "        <td>Black Lives Matter</td>\n",
       "        <td>3 Credits</td>\n",
       "        <td>None</td>\n",
       "        <td>None</td>\n",
       "        <td>None</td>\n",
       "        <td>ASGW American Studies: Gateway, BSFC Black Studies Focus Course, BSSS Black Studies: Social and Behavioral Sciences, PJST Peace and Justice Studies, UDIV U.S. Diversity</td>\n",
       "        <td>In the context of Ferguson, Charleston, and other national crises, this course responds to the call of students from our campus community to raise questions about and critically reflect upon the failures of democracy to recognize the value of Black Life. This course employs collective thinking, teaching, and research to focus on questions surrounding race, structural inequality, and violence. It examines the historical, geographical, cultural, social, and political ways in which race has been configured and deployed in the United States. Various faculty will bring to bear their respective scholarly lenses so that students understand race and racism across intellectual disciplines.</td>\n",
       "    </tr>\n",
       "    <tr>\n",
       "        <td>10</td>\n",
       "        <td>2017_2018</td>\n",
       "        <td>BL 0398</td>\n",
       "        <td>3</td>\n",
       "        <td>Independent Study</td>\n",
       "        <td>1-3 Credits</td>\n",
       "        <td>None</td>\n",
       "        <td>None</td>\n",
       "        <td>None</td>\n",
       "        <td>BSCP Black Studies Capstone Course</td>\n",
       "        <td>Upon request and by agreement with a professor in the program, a Black Studies minor may conduct a one-semester independent study on a defined research topic or field of study.</td>\n",
       "    </tr>\n",
       "</table>"
      ],
      "text/plain": [
       "[(1, '2017_2018', 'AN 0301', 1, 'Independent Study', '1-3 Credits', None, None, None, None, 'Students undertake an individualized program of study in consultation with a director from the Asian studies faculty.'),\n",
       " (2, '2017_2018', 'AN 0310', 1, 'Asian Studies Seminar', '3 Credits', None, None, None, None, 'This seminar examines selected topics concerning Asia. This course is taught in conjunction with another 100-300 level course from a rotation of cour ... (412 characters truncated) ... e term paper in substitution of some portion of the conjoined course requirements, as determined by the instructor. Open to juniors and seniors only.'),\n",
       " (3, '2017_2018', 'BU 0211', 2, 'Legal Environment of Business', '3 Credits', 'Junior standing.', None, None, None, 'This course examines the broad philosophical as well as practical nature and function of the legal system, and introduces students to the legal and s ... (171 characters truncated) ... ivil process, and regulatory areas such as employment discrimination, protection of the environment, and corporate governance and securities markets.'),\n",
       " (4, '2017_2018', 'BU 0220', 2, 'Environmental Law and Policy', '3 Credits', None, None, None, 'EVME Environmental Studies Major Elective, EVPE Environmental Studies Elective, EVSS Environmental Studies: Social Science, MGEL Management: General Elective', 'This course surveys issues arising out of federal laws designed to protect the environment and manage resources. It considers in detail the role of t ... (298 characters truncated) ... t groups in shaping environmental policy, giving special attention to the impact of environmental regulation on business and private property rights.'),\n",
       " (5, '2017_2018', 'BU 0311', 2, 'The Law of Contracts, Sales, and Property', '3 Credits', 'BU 0211.', None, None, None, 'This course examines the components of common law contracts including the concepts of offer and acceptance, consideration, capacity and legality, ass ... (117 characters truncated) ...  the Uniform Commercial Code relating to leases, sales of goods, and warranties. The course also considers personal and real property, and bailments.'),\n",
       " (6, '2017_2018', 'BU 0312', 2, 'The Law of Business Organizations and Financial Transactions', '3 Credits', 'BU 0211.', None, None, None, 'This course offers an analysis of legal principles related to the law of agency, sole proprietorships, partnerships, corporations, limited liability  ... (163 characters truncated) ... collections and deposits and secured transactions. Finally, the course examines the law of suretyship, debtor-creditor relationships, and bankruptcy.'),\n",
       " (7, '2017_2018', 'BU 0320', 2, 'Employment Law and Discrimination in the Workplace', '3 Credits', None, None, None, 'MGEL Management: General Elective, UDIV U.S. Diversity', 'This course examines a variety of legal issues related to the workplace including the doctrine of employment at will, employee privacy, and the histo ... (279 characters truncated) ... gin, age, and disability occupies a major portion of the course. Other employment issues include affirmative action, worker safety, and compensation.'),\n",
       " (8, '2017_2018', 'BU 0391', 2, 'Seminar in Business Law and Ethics', '3 Credits', 'AE 0291, BU 0211, two additional courses in law or applied ethics.', None, None, None, 'This interdisciplinary study of these two aspects of the business environment is cross-listed as'),\n",
       " (9, '2017_2018', 'BL 0101', 3, 'Black Lives Matter', '3 Credits', None, None, None, 'ASGW American Studies: Gateway, BSFC Black Studies Focus Course, BSSS Black Studies: Social and Behavioral Sciences, PJST Peace and Justice Studies, UDIV U.S. Diversity', 'In the context of Ferguson, Charleston, and other national crises, this course responds to the call of students from our campus community to raise qu ... (391 characters truncated) ... es. Various faculty will bring to bear their respective scholarly lenses so that students understand race and racism across intellectual disciplines.'),\n",
       " (10, '2017_2018', 'BL 0398', 3, 'Independent Study', '1-3 Credits', None, None, None, 'BSCP Black Studies Capstone Course', 'Upon request and by agreement with a professor in the program, a Black Studies minor may conduct a one-semester independent study on a defined research topic or field of study.')]"
      ]
     },
     "execution_count": 16,
     "metadata": {},
     "output_type": "execute_result"
    }
   ],
   "source": [
    "%%sql\n",
    "SELECT *\n",
    "FROM CatalogCourse\n",
    "LIMIT 10;"
   ]
  },
  {
   "cell_type": "markdown",
   "metadata": {},
   "source": [
    "- CatalogYear column was made in the for loop while importing the Catalog CSVs: cat_year"
   ]
  },
  {
   "cell_type": "code",
   "execution_count": 17,
   "metadata": {},
   "outputs": [
    {
     "name": "stdout",
     "output_type": "stream",
     "text": [
      " * sqlite:///CourseData.db\n",
      "0 rows affected.\n",
      "15937 rows affected.\n"
     ]
    },
    {
     "data": {
      "text/plain": [
       "[]"
      ]
     },
     "execution_count": 17,
     "metadata": {},
     "output_type": "execute_result"
    }
   ],
   "source": [
    "%%sql\n",
    "\n",
    "DELETE FROM Class;\n",
    "\n",
    "INSERT INTO Class (CatalogID, CatalogCourseID, ProfessorID, Term, CRN, Section, Credits, Title, Timecodes, Meetings, Capacity, Actual, Remaining)\n",
    "SELECT DISTINCT catalog_id, CatalogCourseID, ProfessorID, term, crn, section, import_courses.credits, title, timecodes, meetings, cap, act, rem\n",
    "FROM import_courses\n",
    "    LEFT JOIN Professor ON (primary_instructor = Professor.Name)\n",
    "    LEFT JOIN TermCatalogYear USING (Term)\n",
    "    LEFT JOIN CatalogCourse ON (catalog_id = CatalogID AND CatalogCourse.CatalogYear = TermCatalogYear.CatalogYear);"
   ]
  },
  {
   "cell_type": "code",
   "execution_count": 18,
   "metadata": {},
   "outputs": [
    {
     "name": "stdout",
     "output_type": "stream",
     "text": [
      " * sqlite:///CourseData.db\n",
      "Done.\n"
     ]
    },
    {
     "data": {
      "text/html": [
       "<table>\n",
       "    <tr>\n",
       "        <th>ClassID</th>\n",
       "        <th>CatalogID</th>\n",
       "        <th>CatalogCourseID</th>\n",
       "        <th>ProfessorID</th>\n",
       "        <th>Term</th>\n",
       "        <th>CRN</th>\n",
       "        <th>Section</th>\n",
       "        <th>Credits</th>\n",
       "        <th>Title</th>\n",
       "        <th>Timecodes</th>\n",
       "        <th>Meetings</th>\n",
       "        <th>Capacity</th>\n",
       "        <th>Actual</th>\n",
       "        <th>Remaining</th>\n",
       "    </tr>\n",
       "    <tr>\n",
       "        <td>1</td>\n",
       "        <td>AC 0011</td>\n",
       "        <td>None</td>\n",
       "        <td>1</td>\n",
       "        <td>Fall2014</td>\n",
       "        <td>70384</td>\n",
       "        <td>C01</td>\n",
       "        <td>3</td>\n",
       "        <td>Introduction to Financial Accounting</td>\n",
       "        <td>[&#x27;TF 0800am-0915am 09/02-12/08 DSB 105&#x27;]</td>\n",
       "        <td>[{&#x27;days&#x27;: &#x27;TF&#x27;, &#x27;times&#x27;: &#x27;0800am-0915am&#x27;, &#x27;dates&#x27;: &#x27;09/02-12/08&#x27;, &#x27;location&#x27;: &#x27;DSB 105&#x27;}]</td>\n",
       "        <td>0</td>\n",
       "        <td>31</td>\n",
       "        <td>-31</td>\n",
       "    </tr>\n",
       "    <tr>\n",
       "        <td>2</td>\n",
       "        <td>AC 0011</td>\n",
       "        <td>None</td>\n",
       "        <td>1</td>\n",
       "        <td>Fall2014</td>\n",
       "        <td>70385</td>\n",
       "        <td>C02</td>\n",
       "        <td>3</td>\n",
       "        <td>Introduction to Financial Accounting</td>\n",
       "        <td>[&#x27;TF 0930am-1045am 09/02-12/08 DSB 105&#x27;]</td>\n",
       "        <td>[{&#x27;days&#x27;: &#x27;TF&#x27;, &#x27;times&#x27;: &#x27;0930am-1045am&#x27;, &#x27;dates&#x27;: &#x27;09/02-12/08&#x27;, &#x27;location&#x27;: &#x27;DSB 105&#x27;}]</td>\n",
       "        <td>0</td>\n",
       "        <td>31</td>\n",
       "        <td>-31</td>\n",
       "    </tr>\n",
       "    <tr>\n",
       "        <td>3</td>\n",
       "        <td>AC 0011</td>\n",
       "        <td>None</td>\n",
       "        <td>1</td>\n",
       "        <td>Fall2014</td>\n",
       "        <td>70382</td>\n",
       "        <td>C03</td>\n",
       "        <td>3</td>\n",
       "        <td>Introduction to Financial Accounting</td>\n",
       "        <td>[&#x27;TF 1230pm-0145pm 09/02-12/08 DSB 105&#x27;]</td>\n",
       "        <td>[{&#x27;days&#x27;: &#x27;TF&#x27;, &#x27;times&#x27;: &#x27;1230pm-0145pm&#x27;, &#x27;dates&#x27;: &#x27;09/02-12/08&#x27;, &#x27;location&#x27;: &#x27;DSB 105&#x27;}]</td>\n",
       "        <td>0</td>\n",
       "        <td>31</td>\n",
       "        <td>-31</td>\n",
       "    </tr>\n",
       "    <tr>\n",
       "        <td>4</td>\n",
       "        <td>AC 0011</td>\n",
       "        <td>None</td>\n",
       "        <td>2</td>\n",
       "        <td>Fall2014</td>\n",
       "        <td>70291</td>\n",
       "        <td>C04</td>\n",
       "        <td>3</td>\n",
       "        <td>Introduction to Financial Accounting</td>\n",
       "        <td>[&#x27;MR 1100am-1215pm 09/02-12/08 DSB 111&#x27;]</td>\n",
       "        <td>[{&#x27;days&#x27;: &#x27;MR&#x27;, &#x27;times&#x27;: &#x27;1100am-1215pm&#x27;, &#x27;dates&#x27;: &#x27;09/02-12/08&#x27;, &#x27;location&#x27;: &#x27;DSB 111&#x27;}]</td>\n",
       "        <td>0</td>\n",
       "        <td>29</td>\n",
       "        <td>-29</td>\n",
       "    </tr>\n",
       "    <tr>\n",
       "        <td>5</td>\n",
       "        <td>AC 0011</td>\n",
       "        <td>None</td>\n",
       "        <td>2</td>\n",
       "        <td>Fall2014</td>\n",
       "        <td>70350</td>\n",
       "        <td>C05</td>\n",
       "        <td>3</td>\n",
       "        <td>Introduction to Financial Accounting</td>\n",
       "        <td>[&#x27;MR 1230pm-0145pm 09/02-12/08 DSB 111&#x27;]</td>\n",
       "        <td>[{&#x27;days&#x27;: &#x27;MR&#x27;, &#x27;times&#x27;: &#x27;1230pm-0145pm&#x27;, &#x27;dates&#x27;: &#x27;09/02-12/08&#x27;, &#x27;location&#x27;: &#x27;DSB 111&#x27;}]</td>\n",
       "        <td>0</td>\n",
       "        <td>30</td>\n",
       "        <td>-30</td>\n",
       "    </tr>\n",
       "    <tr>\n",
       "        <td>6</td>\n",
       "        <td>AC 0011</td>\n",
       "        <td>None</td>\n",
       "        <td>2</td>\n",
       "        <td>Fall2014</td>\n",
       "        <td>70381</td>\n",
       "        <td>C06</td>\n",
       "        <td>3</td>\n",
       "        <td>Introduction to Financial Accounting</td>\n",
       "        <td>[&#x27;MR 0330pm-0445pm 09/02-12/08 DSB 110A&#x27;]</td>\n",
       "        <td>[{&#x27;days&#x27;: &#x27;MR&#x27;, &#x27;times&#x27;: &#x27;0330pm-0445pm&#x27;, &#x27;dates&#x27;: &#x27;09/02-12/08&#x27;, &#x27;location&#x27;: &#x27;DSB 110A&#x27;}]</td>\n",
       "        <td>0</td>\n",
       "        <td>31</td>\n",
       "        <td>-31</td>\n",
       "    </tr>\n",
       "    <tr>\n",
       "        <td>7</td>\n",
       "        <td>AC 0011</td>\n",
       "        <td>None</td>\n",
       "        <td>3</td>\n",
       "        <td>Fall2014</td>\n",
       "        <td>70383</td>\n",
       "        <td>G</td>\n",
       "        <td>3</td>\n",
       "        <td>Introduction to Financial Accounting</td>\n",
       "        <td>[&#x27;MR 0930am-1045am 09/02-12/08 DSB 111&#x27;]</td>\n",
       "        <td>[{&#x27;days&#x27;: &#x27;MR&#x27;, &#x27;times&#x27;: &#x27;0930am-1045am&#x27;, &#x27;dates&#x27;: &#x27;09/02-12/08&#x27;, &#x27;location&#x27;: &#x27;DSB 111&#x27;}]</td>\n",
       "        <td>30</td>\n",
       "        <td>31</td>\n",
       "        <td>-1</td>\n",
       "    </tr>\n",
       "    <tr>\n",
       "        <td>8</td>\n",
       "        <td>AC 0011</td>\n",
       "        <td>None</td>\n",
       "        <td>4</td>\n",
       "        <td>Fall2014</td>\n",
       "        <td>70391</td>\n",
       "        <td>H</td>\n",
       "        <td>3</td>\n",
       "        <td>Introduction to Financial Accounting</td>\n",
       "        <td>[&#x27;TF 0930am-1045am 09/02-12/08 DSB 110A&#x27;]</td>\n",
       "        <td>[{&#x27;days&#x27;: &#x27;TF&#x27;, &#x27;times&#x27;: &#x27;0930am-1045am&#x27;, &#x27;dates&#x27;: &#x27;09/02-12/08&#x27;, &#x27;location&#x27;: &#x27;DSB 110A&#x27;}]</td>\n",
       "        <td>30</td>\n",
       "        <td>32</td>\n",
       "        <td>-2</td>\n",
       "    </tr>\n",
       "    <tr>\n",
       "        <td>9</td>\n",
       "        <td>AC 0011</td>\n",
       "        <td>None</td>\n",
       "        <td>4</td>\n",
       "        <td>Fall2014</td>\n",
       "        <td>71105</td>\n",
       "        <td>I</td>\n",
       "        <td>3</td>\n",
       "        <td>Introduction to Financial Accounting</td>\n",
       "        <td>[&#x27;TF 1100am-1215pm 09/02-12/08 DSB 110A&#x27;]</td>\n",
       "        <td>[{&#x27;days&#x27;: &#x27;TF&#x27;, &#x27;times&#x27;: &#x27;1100am-1215pm&#x27;, &#x27;dates&#x27;: &#x27;09/02-12/08&#x27;, &#x27;location&#x27;: &#x27;DSB 110A&#x27;}]</td>\n",
       "        <td>30</td>\n",
       "        <td>33</td>\n",
       "        <td>-3</td>\n",
       "    </tr>\n",
       "    <tr>\n",
       "        <td>10</td>\n",
       "        <td>AC 0011</td>\n",
       "        <td>None</td>\n",
       "        <td>4</td>\n",
       "        <td>Fall2014</td>\n",
       "        <td>71123</td>\n",
       "        <td>J</td>\n",
       "        <td>3</td>\n",
       "        <td>Introduction to Financial Accounting</td>\n",
       "        <td>[&#x27;TF 0200pm-0315pm 09/02-12/08 DSB 105&#x27;]</td>\n",
       "        <td>[{&#x27;days&#x27;: &#x27;TF&#x27;, &#x27;times&#x27;: &#x27;0200pm-0315pm&#x27;, &#x27;dates&#x27;: &#x27;09/02-12/08&#x27;, &#x27;location&#x27;: &#x27;DSB 105&#x27;}]</td>\n",
       "        <td>30</td>\n",
       "        <td>32</td>\n",
       "        <td>-2</td>\n",
       "    </tr>\n",
       "</table>"
      ],
      "text/plain": [
       "[(1, 'AC 0011', None, 1, 'Fall2014', 70384, 'C01', 3, 'Introduction to Financial Accounting', \"['TF 0800am-0915am 09/02-12/08 DSB 105']\", \"[{'days': 'TF', 'times': '0800am-0915am', 'dates': '09/02-12/08', 'location': 'DSB 105'}]\", 0, 31, -31),\n",
       " (2, 'AC 0011', None, 1, 'Fall2014', 70385, 'C02', 3, 'Introduction to Financial Accounting', \"['TF 0930am-1045am 09/02-12/08 DSB 105']\", \"[{'days': 'TF', 'times': '0930am-1045am', 'dates': '09/02-12/08', 'location': 'DSB 105'}]\", 0, 31, -31),\n",
       " (3, 'AC 0011', None, 1, 'Fall2014', 70382, 'C03', 3, 'Introduction to Financial Accounting', \"['TF 1230pm-0145pm 09/02-12/08 DSB 105']\", \"[{'days': 'TF', 'times': '1230pm-0145pm', 'dates': '09/02-12/08', 'location': 'DSB 105'}]\", 0, 31, -31),\n",
       " (4, 'AC 0011', None, 2, 'Fall2014', 70291, 'C04', 3, 'Introduction to Financial Accounting', \"['MR 1100am-1215pm 09/02-12/08 DSB 111']\", \"[{'days': 'MR', 'times': '1100am-1215pm', 'dates': '09/02-12/08', 'location': 'DSB 111'}]\", 0, 29, -29),\n",
       " (5, 'AC 0011', None, 2, 'Fall2014', 70350, 'C05', 3, 'Introduction to Financial Accounting', \"['MR 1230pm-0145pm 09/02-12/08 DSB 111']\", \"[{'days': 'MR', 'times': '1230pm-0145pm', 'dates': '09/02-12/08', 'location': 'DSB 111'}]\", 0, 30, -30),\n",
       " (6, 'AC 0011', None, 2, 'Fall2014', 70381, 'C06', 3, 'Introduction to Financial Accounting', \"['MR 0330pm-0445pm 09/02-12/08 DSB 110A']\", \"[{'days': 'MR', 'times': '0330pm-0445pm', 'dates': '09/02-12/08', 'location': 'DSB 110A'}]\", 0, 31, -31),\n",
       " (7, 'AC 0011', None, 3, 'Fall2014', 70383, 'G', 3, 'Introduction to Financial Accounting', \"['MR 0930am-1045am 09/02-12/08 DSB 111']\", \"[{'days': 'MR', 'times': '0930am-1045am', 'dates': '09/02-12/08', 'location': 'DSB 111'}]\", 30, 31, -1),\n",
       " (8, 'AC 0011', None, 4, 'Fall2014', 70391, 'H', 3, 'Introduction to Financial Accounting', \"['TF 0930am-1045am 09/02-12/08 DSB 110A']\", \"[{'days': 'TF', 'times': '0930am-1045am', 'dates': '09/02-12/08', 'location': 'DSB 110A'}]\", 30, 32, -2),\n",
       " (9, 'AC 0011', None, 4, 'Fall2014', 71105, 'I', 3, 'Introduction to Financial Accounting', \"['TF 1100am-1215pm 09/02-12/08 DSB 110A']\", \"[{'days': 'TF', 'times': '1100am-1215pm', 'dates': '09/02-12/08', 'location': 'DSB 110A'}]\", 30, 33, -3),\n",
       " (10, 'AC 0011', None, 4, 'Fall2014', 71123, 'J', 3, 'Introduction to Financial Accounting', \"['TF 0200pm-0315pm 09/02-12/08 DSB 105']\", \"[{'days': 'TF', 'times': '0200pm-0315pm', 'dates': '09/02-12/08', 'location': 'DSB 105'}]\", 30, 32, -2)]"
      ]
     },
     "execution_count": 18,
     "metadata": {},
     "output_type": "execute_result"
    }
   ],
   "source": [
    "%%sql\n",
    "SELECT *\n",
    "FROM Class\n",
    "LIMIT 10;"
   ]
  },
  {
   "cell_type": "code",
   "execution_count": null,
   "metadata": {},
   "outputs": [],
   "source": []
  },
  {
   "cell_type": "code",
   "execution_count": 19,
   "metadata": {},
   "outputs": [
    {
     "name": "stdout",
     "output_type": "stream",
     "text": [
      " * sqlite:///CourseData.db\n",
      "0 rows affected.\n",
      "284847 rows affected.\n"
     ]
    },
    {
     "data": {
      "text/plain": [
       "[]"
      ]
     },
     "execution_count": 19,
     "metadata": {},
     "output_type": "execute_result"
    }
   ],
   "source": [
    "%%sql\n",
    "\n",
    "DELETE FROM Meeting;\n",
    "\n",
    "INSERT INTO Meeting (ClassID, LocationID, Day, StartTime, EndTime)\n",
    "SELECT DISTINCT Class.ClassID, LocationID, day, `start`,`end`\n",
    "FROM import_course_meetings\n",
    "    JOIN CLASS USING (Term, CRN)\n",
    "    LEFT JOIN Location ON (import_course_meetings.Location = Location.Location);"
   ]
  },
  {
   "cell_type": "code",
   "execution_count": 20,
   "metadata": {},
   "outputs": [
    {
     "name": "stdout",
     "output_type": "stream",
     "text": [
      " * sqlite:///CourseData.db\n",
      "Done.\n"
     ]
    },
    {
     "data": {
      "text/html": [
       "<table>\n",
       "    <tr>\n",
       "        <th>MeetingID</th>\n",
       "        <th>ClassID</th>\n",
       "        <th>LocationID</th>\n",
       "        <th>Day</th>\n",
       "        <th>StartTime</th>\n",
       "        <th>EndTime</th>\n",
       "    </tr>\n",
       "    <tr>\n",
       "        <td>1</td>\n",
       "        <td>1</td>\n",
       "        <td>1</td>\n",
       "        <td>T</td>\n",
       "        <td>2014-09-02T08:00:00</td>\n",
       "        <td>2014-09-02T09:15:00</td>\n",
       "    </tr>\n",
       "    <tr>\n",
       "        <td>2</td>\n",
       "        <td>1</td>\n",
       "        <td>1</td>\n",
       "        <td>F</td>\n",
       "        <td>2014-09-05T08:00:00</td>\n",
       "        <td>2014-09-05T09:15:00</td>\n",
       "    </tr>\n",
       "    <tr>\n",
       "        <td>3</td>\n",
       "        <td>1</td>\n",
       "        <td>1</td>\n",
       "        <td>T</td>\n",
       "        <td>2014-09-09T08:00:00</td>\n",
       "        <td>2014-09-09T09:15:00</td>\n",
       "    </tr>\n",
       "    <tr>\n",
       "        <td>4</td>\n",
       "        <td>1</td>\n",
       "        <td>1</td>\n",
       "        <td>F</td>\n",
       "        <td>2014-09-12T08:00:00</td>\n",
       "        <td>2014-09-12T09:15:00</td>\n",
       "    </tr>\n",
       "    <tr>\n",
       "        <td>5</td>\n",
       "        <td>1</td>\n",
       "        <td>1</td>\n",
       "        <td>T</td>\n",
       "        <td>2014-09-16T08:00:00</td>\n",
       "        <td>2014-09-16T09:15:00</td>\n",
       "    </tr>\n",
       "    <tr>\n",
       "        <td>6</td>\n",
       "        <td>1</td>\n",
       "        <td>1</td>\n",
       "        <td>F</td>\n",
       "        <td>2014-09-19T08:00:00</td>\n",
       "        <td>2014-09-19T09:15:00</td>\n",
       "    </tr>\n",
       "    <tr>\n",
       "        <td>7</td>\n",
       "        <td>1</td>\n",
       "        <td>1</td>\n",
       "        <td>T</td>\n",
       "        <td>2014-09-23T08:00:00</td>\n",
       "        <td>2014-09-23T09:15:00</td>\n",
       "    </tr>\n",
       "    <tr>\n",
       "        <td>8</td>\n",
       "        <td>1</td>\n",
       "        <td>1</td>\n",
       "        <td>F</td>\n",
       "        <td>2014-09-26T08:00:00</td>\n",
       "        <td>2014-09-26T09:15:00</td>\n",
       "    </tr>\n",
       "    <tr>\n",
       "        <td>9</td>\n",
       "        <td>1</td>\n",
       "        <td>1</td>\n",
       "        <td>T</td>\n",
       "        <td>2014-09-30T08:00:00</td>\n",
       "        <td>2014-09-30T09:15:00</td>\n",
       "    </tr>\n",
       "    <tr>\n",
       "        <td>10</td>\n",
       "        <td>1</td>\n",
       "        <td>1</td>\n",
       "        <td>F</td>\n",
       "        <td>2014-10-03T08:00:00</td>\n",
       "        <td>2014-10-03T09:15:00</td>\n",
       "    </tr>\n",
       "</table>"
      ],
      "text/plain": [
       "[(1, 1, 1, 'T', '2014-09-02T08:00:00', '2014-09-02T09:15:00'),\n",
       " (2, 1, 1, 'F', '2014-09-05T08:00:00', '2014-09-05T09:15:00'),\n",
       " (3, 1, 1, 'T', '2014-09-09T08:00:00', '2014-09-09T09:15:00'),\n",
       " (4, 1, 1, 'F', '2014-09-12T08:00:00', '2014-09-12T09:15:00'),\n",
       " (5, 1, 1, 'T', '2014-09-16T08:00:00', '2014-09-16T09:15:00'),\n",
       " (6, 1, 1, 'F', '2014-09-19T08:00:00', '2014-09-19T09:15:00'),\n",
       " (7, 1, 1, 'T', '2014-09-23T08:00:00', '2014-09-23T09:15:00'),\n",
       " (8, 1, 1, 'F', '2014-09-26T08:00:00', '2014-09-26T09:15:00'),\n",
       " (9, 1, 1, 'T', '2014-09-30T08:00:00', '2014-09-30T09:15:00'),\n",
       " (10, 1, 1, 'F', '2014-10-03T08:00:00', '2014-10-03T09:15:00')]"
      ]
     },
     "execution_count": 20,
     "metadata": {},
     "output_type": "execute_result"
    }
   ],
   "source": [
    "%%sql\n",
    "SELECT *\n",
    "FROM Meeting\n",
    "LIMIT 10;"
   ]
  },
  {
   "cell_type": "markdown",
   "metadata": {},
   "source": [
    "### __4. Integrity Checks__"
   ]
  },
  {
   "cell_type": "markdown",
   "metadata": {},
   "source": [
    "__Domain Integrity__"
   ]
  },
  {
   "cell_type": "markdown",
   "metadata": {},
   "source": [
    "__Entity Integrity:__\n",
    "\n",
    "\n",
    "There should be 4440 Catalog Entries, 15937 Course Offerings, and 284847 Course Meetings\n",
    "SELECT "
   ]
  },
  {
   "cell_type": "code",
   "execution_count": 21,
   "metadata": {},
   "outputs": [
    {
     "name": "stdout",
     "output_type": "stream",
     "text": [
      " * sqlite:///CourseData.db\n",
      "Done.\n"
     ]
    },
    {
     "data": {
      "text/html": [
       "<table>\n",
       "    <tr>\n",
       "        <th>CourseMeetings</th>\n",
       "        <th>CatalogCourses</th>\n",
       "        <th>CourseOfferings</th>\n",
       "    </tr>\n",
       "    <tr>\n",
       "        <td>284847</td>\n",
       "        <td>4440</td>\n",
       "        <td>15937</td>\n",
       "    </tr>\n",
       "</table>"
      ],
      "text/plain": [
       "[(284847, 4440, 15937)]"
      ]
     },
     "execution_count": 21,
     "metadata": {},
     "output_type": "execute_result"
    }
   ],
   "source": [
    "%%sql\n",
    "SELECT\n",
    "    (SELECT Count(*) FROM Meeting) as CourseMeetings,\n",
    "    (SELECT Count(*) FROM CatalogCourse) as CatalogCourses,\n",
    "    (SELECT Count(*) FROM Class) as CourseOfferings;"
   ]
  },
  {
   "cell_type": "markdown",
   "metadata": {},
   "source": [
    "__Relational Integrity__"
   ]
  },
  {
   "cell_type": "code",
   "execution_count": 22,
   "metadata": {},
   "outputs": [
    {
     "name": "stdout",
     "output_type": "stream",
     "text": [
      " * sqlite:///CourseData.db\n",
      "Done.\n"
     ]
    },
    {
     "data": {
      "text/html": [
       "<table>\n",
       "    <tr>\n",
       "        <th>CatalogCourseID</th>\n",
       "        <th>CatalogYear</th>\n",
       "        <th>Term</th>\n",
       "        <th>CRN</th>\n",
       "        <th>Section</th>\n",
       "        <th>CatalogID</th>\n",
       "        <th>Title</th>\n",
       "        <th>Capacity</th>\n",
       "        <th>Actual</th>\n",
       "        <th>Remaining</th>\n",
       "        <th>Year</th>\n",
       "    </tr>\n",
       "    <tr>\n",
       "        <td>None</td>\n",
       "        <td>None</td>\n",
       "        <td>Fall2014</td>\n",
       "        <td>70369</td>\n",
       "        <td>E</td>\n",
       "        <td>IS 0100</td>\n",
       "        <td>Intro to Information Systems</td>\n",
       "        <td>25</td>\n",
       "        <td>26</td>\n",
       "        <td>-1</td>\n",
       "        <td>2014</td>\n",
       "    </tr>\n",
       "    <tr>\n",
       "        <td>None</td>\n",
       "        <td>None</td>\n",
       "        <td>Fall2014</td>\n",
       "        <td>73060</td>\n",
       "        <td>A</td>\n",
       "        <td>IS 0135</td>\n",
       "        <td>Fundamentals of Web Design</td>\n",
       "        <td>25</td>\n",
       "        <td>26</td>\n",
       "        <td>-1</td>\n",
       "        <td>2014</td>\n",
       "    </tr>\n",
       "    <tr>\n",
       "        <td>None</td>\n",
       "        <td>None</td>\n",
       "        <td>Fall2014</td>\n",
       "        <td>73061</td>\n",
       "        <td>A</td>\n",
       "        <td>IS 0320</td>\n",
       "        <td>Systems Design and Implementation</td>\n",
       "        <td>25</td>\n",
       "        <td>16</td>\n",
       "        <td>9</td>\n",
       "        <td>2014</td>\n",
       "    </tr>\n",
       "    <tr>\n",
       "        <td>None</td>\n",
       "        <td>None</td>\n",
       "        <td>Fall2015</td>\n",
       "        <td>75231</td>\n",
       "        <td>E</td>\n",
       "        <td>IS 0100</td>\n",
       "        <td>Intro to Information Systems</td>\n",
       "        <td>29</td>\n",
       "        <td>28</td>\n",
       "        <td>1</td>\n",
       "        <td>2015</td>\n",
       "    </tr>\n",
       "    <tr>\n",
       "        <td>None</td>\n",
       "        <td>None</td>\n",
       "        <td>Fall2015</td>\n",
       "        <td>75246</td>\n",
       "        <td>F</td>\n",
       "        <td>IS 0100</td>\n",
       "        <td>Intro to Information Systems</td>\n",
       "        <td>29</td>\n",
       "        <td>28</td>\n",
       "        <td>1</td>\n",
       "        <td>2015</td>\n",
       "    </tr>\n",
       "    <tr>\n",
       "        <td>None</td>\n",
       "        <td>None</td>\n",
       "        <td>Fall2015</td>\n",
       "        <td>76388</td>\n",
       "        <td>A</td>\n",
       "        <td>IS 0135</td>\n",
       "        <td>Fundamentals of Web Design</td>\n",
       "        <td>25</td>\n",
       "        <td>21</td>\n",
       "        <td>4</td>\n",
       "        <td>2015</td>\n",
       "    </tr>\n",
       "    <tr>\n",
       "        <td>None</td>\n",
       "        <td>None</td>\n",
       "        <td>Fall2015</td>\n",
       "        <td>76389</td>\n",
       "        <td>A</td>\n",
       "        <td>IS 0320</td>\n",
       "        <td>Systems Design and Implementation</td>\n",
       "        <td>25</td>\n",
       "        <td>13</td>\n",
       "        <td>12</td>\n",
       "        <td>2015</td>\n",
       "    </tr>\n",
       "    <tr>\n",
       "        <td>None</td>\n",
       "        <td>None</td>\n",
       "        <td>Spring2016</td>\n",
       "        <td>38780</td>\n",
       "        <td>01</td>\n",
       "        <td>IS 0585</td>\n",
       "        <td>Contemporary Topics: Information Systems and Data</td>\n",
       "        <td>20</td>\n",
       "        <td>15</td>\n",
       "        <td>5</td>\n",
       "        <td>2016</td>\n",
       "    </tr>\n",
       "    <tr>\n",
       "        <td>None</td>\n",
       "        <td>None</td>\n",
       "        <td>Spring2016</td>\n",
       "        <td>37253</td>\n",
       "        <td>B</td>\n",
       "        <td>OM 0101</td>\n",
       "        <td>Operations Management</td>\n",
       "        <td>29</td>\n",
       "        <td>28</td>\n",
       "        <td>1</td>\n",
       "        <td>2016</td>\n",
       "    </tr>\n",
       "    <tr>\n",
       "        <td>None</td>\n",
       "        <td>None</td>\n",
       "        <td>Spring2016</td>\n",
       "        <td>37254</td>\n",
       "        <td>C</td>\n",
       "        <td>OM 0101</td>\n",
       "        <td>Operations Management</td>\n",
       "        <td>29</td>\n",
       "        <td>29</td>\n",
       "        <td>0</td>\n",
       "        <td>2016</td>\n",
       "    </tr>\n",
       "    <tr>\n",
       "        <td>None</td>\n",
       "        <td>None</td>\n",
       "        <td>Fall2016</td>\n",
       "        <td>78100</td>\n",
       "        <td>01</td>\n",
       "        <td>IS 0135</td>\n",
       "        <td>Fundamentals of Web Design</td>\n",
       "        <td>25</td>\n",
       "        <td>15</td>\n",
       "        <td>10</td>\n",
       "        <td>2016</td>\n",
       "    </tr>\n",
       "    <tr>\n",
       "        <td>None</td>\n",
       "        <td>None</td>\n",
       "        <td>Fall2016</td>\n",
       "        <td>77162</td>\n",
       "        <td>01</td>\n",
       "        <td>IS 0240</td>\n",
       "        <td>Systems Analysis and Logical Design</td>\n",
       "        <td>25</td>\n",
       "        <td>23</td>\n",
       "        <td>2</td>\n",
       "        <td>2016</td>\n",
       "    </tr>\n",
       "    <tr>\n",
       "        <td>None</td>\n",
       "        <td>None</td>\n",
       "        <td>Fall2016</td>\n",
       "        <td>79098</td>\n",
       "        <td>01</td>\n",
       "        <td>IS 0585C</td>\n",
       "        <td>Contemporary Topics: Database Systems for Business Analytics</td>\n",
       "        <td>20</td>\n",
       "        <td>15</td>\n",
       "        <td>5</td>\n",
       "        <td>2016</td>\n",
       "    </tr>\n",
       "    <tr>\n",
       "        <td>None</td>\n",
       "        <td>None</td>\n",
       "        <td>Spring2017</td>\n",
       "        <td>31735</td>\n",
       "        <td>01</td>\n",
       "        <td>IS 0240</td>\n",
       "        <td>Systems Analysis and Logical Design</td>\n",
       "        <td>25</td>\n",
       "        <td>25</td>\n",
       "        <td>0</td>\n",
       "        <td>2017</td>\n",
       "    </tr>\n",
       "    <tr>\n",
       "        <td>None</td>\n",
       "        <td>None</td>\n",
       "        <td>Spring2017</td>\n",
       "        <td>32646</td>\n",
       "        <td>01</td>\n",
       "        <td>IS 0320</td>\n",
       "        <td>Systems Design and Implementation</td>\n",
       "        <td>25</td>\n",
       "        <td>7</td>\n",
       "        <td>18</td>\n",
       "        <td>2017</td>\n",
       "    </tr>\n",
       "    <tr>\n",
       "        <td>None</td>\n",
       "        <td>None</td>\n",
       "        <td>Spring2017</td>\n",
       "        <td>33077</td>\n",
       "        <td>CH</td>\n",
       "        <td>IS 0399</td>\n",
       "        <td>Independent Study</td>\n",
       "        <td>0</td>\n",
       "        <td>2</td>\n",
       "        <td>-2</td>\n",
       "        <td>2017</td>\n",
       "    </tr>\n",
       "    <tr>\n",
       "        <td>None</td>\n",
       "        <td>None</td>\n",
       "        <td>Spring2017</td>\n",
       "        <td>31311</td>\n",
       "        <td>06</td>\n",
       "        <td>OM 0101</td>\n",
       "        <td>Operations Management</td>\n",
       "        <td>29</td>\n",
       "        <td>28</td>\n",
       "        <td>1</td>\n",
       "        <td>2017</td>\n",
       "    </tr>\n",
       "    <tr>\n",
       "        <td>922</td>\n",
       "        <td>2017_2018</td>\n",
       "        <td>Fall2017</td>\n",
       "        <td>71153</td>\n",
       "        <td>01</td>\n",
       "        <td>IS 0240</td>\n",
       "        <td>Systems Analysis and Logical Design</td>\n",
       "        <td>25</td>\n",
       "        <td>23</td>\n",
       "        <td>2</td>\n",
       "        <td>2017</td>\n",
       "    </tr>\n",
       "    <tr>\n",
       "        <td>1075</td>\n",
       "        <td>2017_2018</td>\n",
       "        <td>Fall2017</td>\n",
       "        <td>73088</td>\n",
       "        <td>CH</td>\n",
       "        <td>IS 0399</td>\n",
       "        <td>Independent Study</td>\n",
       "        <td>0</td>\n",
       "        <td>1</td>\n",
       "        <td>-1</td>\n",
       "        <td>2017</td>\n",
       "    </tr>\n",
       "    <tr>\n",
       "        <td>1151</td>\n",
       "        <td>2017_2018</td>\n",
       "        <td>Fall2017</td>\n",
       "        <td>72913</td>\n",
       "        <td>01</td>\n",
       "        <td>IS 0505</td>\n",
       "        <td>Python for Business Analytics</td>\n",
       "        <td>20</td>\n",
       "        <td>28</td>\n",
       "        <td>-8</td>\n",
       "        <td>2017</td>\n",
       "    </tr>\n",
       "    <tr>\n",
       "        <td>1152</td>\n",
       "        <td>2017_2018</td>\n",
       "        <td>Fall2017</td>\n",
       "        <td>72914</td>\n",
       "        <td>01</td>\n",
       "        <td>IS 0510</td>\n",
       "        <td>Databases for Business Analytics</td>\n",
       "        <td>20</td>\n",
       "        <td>18</td>\n",
       "        <td>2</td>\n",
       "        <td>2017</td>\n",
       "    </tr>\n",
       "    <tr>\n",
       "        <td>922</td>\n",
       "        <td>2017_2018</td>\n",
       "        <td>Spring2018</td>\n",
       "        <td>34644</td>\n",
       "        <td>01</td>\n",
       "        <td>IS 0240</td>\n",
       "        <td>Systems Analysis and Logical Design</td>\n",
       "        <td>25</td>\n",
       "        <td>22</td>\n",
       "        <td>3</td>\n",
       "        <td>2018</td>\n",
       "    </tr>\n",
       "    <tr>\n",
       "        <td>923</td>\n",
       "        <td>2017_2018</td>\n",
       "        <td>Spring2018</td>\n",
       "        <td>34645</td>\n",
       "        <td>01</td>\n",
       "        <td>IS 0260</td>\n",
       "        <td>Database Systems</td>\n",
       "        <td>25</td>\n",
       "        <td>24</td>\n",
       "        <td>1</td>\n",
       "        <td>2018</td>\n",
       "    </tr>\n",
       "    <tr>\n",
       "        <td>993</td>\n",
       "        <td>2017_2018</td>\n",
       "        <td>Spring2018</td>\n",
       "        <td>35141</td>\n",
       "        <td>01</td>\n",
       "        <td>IS 0320</td>\n",
       "        <td>Systems Design and Implementation</td>\n",
       "        <td>25</td>\n",
       "        <td>20</td>\n",
       "        <td>5</td>\n",
       "        <td>2018</td>\n",
       "    </tr>\n",
       "    <tr>\n",
       "        <td>1075</td>\n",
       "        <td>2017_2018</td>\n",
       "        <td>Spring2018</td>\n",
       "        <td>36043</td>\n",
       "        <td>CH</td>\n",
       "        <td>IS 0399</td>\n",
       "        <td>Independent Study</td>\n",
       "        <td>0</td>\n",
       "        <td>1</td>\n",
       "        <td>-1</td>\n",
       "        <td>2018</td>\n",
       "    </tr>\n",
       "    <tr>\n",
       "        <td>None</td>\n",
       "        <td>None</td>\n",
       "        <td>Fall2018</td>\n",
       "        <td>75942</td>\n",
       "        <td>01</td>\n",
       "        <td>BA 0505</td>\n",
       "        <td>Python for Business Analytics</td>\n",
       "        <td>20</td>\n",
       "        <td>27</td>\n",
       "        <td>-7</td>\n",
       "        <td>2018</td>\n",
       "    </tr>\n",
       "    <tr>\n",
       "        <td>2683</td>\n",
       "        <td>2018_2019</td>\n",
       "        <td>Fall2018</td>\n",
       "        <td>74215</td>\n",
       "        <td>01</td>\n",
       "        <td>OM 0101</td>\n",
       "        <td>Operations Management</td>\n",
       "        <td>25</td>\n",
       "        <td>24</td>\n",
       "        <td>1</td>\n",
       "        <td>2018</td>\n",
       "    </tr>\n",
       "    <tr>\n",
       "        <td>2683</td>\n",
       "        <td>2018_2019</td>\n",
       "        <td>Fall2018</td>\n",
       "        <td>74216</td>\n",
       "        <td>02</td>\n",
       "        <td>OM 0101</td>\n",
       "        <td>Operations Management</td>\n",
       "        <td>25</td>\n",
       "        <td>25</td>\n",
       "        <td>0</td>\n",
       "        <td>2018</td>\n",
       "    </tr>\n",
       "    <tr>\n",
       "        <td>None</td>\n",
       "        <td>None</td>\n",
       "        <td>Spring2019</td>\n",
       "        <td>39006</td>\n",
       "        <td>01</td>\n",
       "        <td>BA 0510</td>\n",
       "        <td>Databases for Business Analytics</td>\n",
       "        <td>32</td>\n",
       "        <td>34</td>\n",
       "        <td>-2</td>\n",
       "        <td>2019</td>\n",
       "    </tr>\n",
       "    <tr>\n",
       "        <td>2683</td>\n",
       "        <td>2018_2019</td>\n",
       "        <td>Spring2019</td>\n",
       "        <td>37200</td>\n",
       "        <td>01</td>\n",
       "        <td>OM 0101</td>\n",
       "        <td>Operations Management</td>\n",
       "        <td>25</td>\n",
       "        <td>26</td>\n",
       "        <td>-1</td>\n",
       "        <td>2019</td>\n",
       "    </tr>\n",
       "    <tr>\n",
       "        <td>2683</td>\n",
       "        <td>2018_2019</td>\n",
       "        <td>Spring2019</td>\n",
       "        <td>37201</td>\n",
       "        <td>02</td>\n",
       "        <td>OM 0101</td>\n",
       "        <td>Operations Management</td>\n",
       "        <td>25</td>\n",
       "        <td>27</td>\n",
       "        <td>-2</td>\n",
       "        <td>2019</td>\n",
       "    </tr>\n",
       "</table>"
      ],
      "text/plain": [
       "[(None, None, 'Fall2014', 70369, 'E', 'IS 0100', 'Intro to Information Systems', 25, 26, -1, '2014'),\n",
       " (None, None, 'Fall2014', 73060, 'A', 'IS 0135', 'Fundamentals of Web Design', 25, 26, -1, '2014'),\n",
       " (None, None, 'Fall2014', 73061, 'A', 'IS 0320', 'Systems Design and Implementation', 25, 16, 9, '2014'),\n",
       " (None, None, 'Fall2015', 75231, 'E', 'IS 0100', 'Intro to Information Systems', 29, 28, 1, '2015'),\n",
       " (None, None, 'Fall2015', 75246, 'F', 'IS 0100', 'Intro to Information Systems', 29, 28, 1, '2015'),\n",
       " (None, None, 'Fall2015', 76388, 'A', 'IS 0135', 'Fundamentals of Web Design', 25, 21, 4, '2015'),\n",
       " (None, None, 'Fall2015', 76389, 'A', 'IS 0320', 'Systems Design and Implementation', 25, 13, 12, '2015'),\n",
       " (None, None, 'Spring2016', 38780, '01', 'IS 0585', 'Contemporary Topics: Information Systems and Data', 20, 15, 5, '2016'),\n",
       " (None, None, 'Spring2016', 37253, 'B', 'OM 0101', 'Operations Management', 29, 28, 1, '2016'),\n",
       " (None, None, 'Spring2016', 37254, 'C', 'OM 0101', 'Operations Management', 29, 29, 0, '2016'),\n",
       " (None, None, 'Fall2016', 78100, '01', 'IS 0135', 'Fundamentals of Web Design', 25, 15, 10, '2016'),\n",
       " (None, None, 'Fall2016', 77162, '01', 'IS 0240', 'Systems Analysis and Logical Design', 25, 23, 2, '2016'),\n",
       " (None, None, 'Fall2016', 79098, '01', 'IS 0585C', 'Contemporary Topics: Database Systems for Business Analytics', 20, 15, 5, '2016'),\n",
       " (None, None, 'Spring2017', 31735, '01', 'IS 0240', 'Systems Analysis and Logical Design', 25, 25, 0, '2017'),\n",
       " (None, None, 'Spring2017', 32646, '01', 'IS 0320', 'Systems Design and Implementation', 25, 7, 18, '2017'),\n",
       " (None, None, 'Spring2017', 33077, 'CH', 'IS 0399', 'Independent Study', 0, 2, -2, '2017'),\n",
       " (None, None, 'Spring2017', 31311, '06', 'OM 0101', 'Operations Management', 29, 28, 1, '2017'),\n",
       " (922, '2017_2018', 'Fall2017', 71153, '01', 'IS 0240', 'Systems Analysis and Logical Design', 25, 23, 2, '2017'),\n",
       " (1075, '2017_2018', 'Fall2017', 73088, 'CH', 'IS 0399', 'Independent Study', 0, 1, -1, '2017'),\n",
       " (1151, '2017_2018', 'Fall2017', 72913, '01', 'IS 0505', 'Python for Business Analytics', 20, 28, -8, '2017'),\n",
       " (1152, '2017_2018', 'Fall2017', 72914, '01', 'IS 0510', 'Databases for Business Analytics', 20, 18, 2, '2017'),\n",
       " (922, '2017_2018', 'Spring2018', 34644, '01', 'IS 0240', 'Systems Analysis and Logical Design', 25, 22, 3, '2018'),\n",
       " (923, '2017_2018', 'Spring2018', 34645, '01', 'IS 0260', 'Database Systems', 25, 24, 1, '2018'),\n",
       " (993, '2017_2018', 'Spring2018', 35141, '01', 'IS 0320', 'Systems Design and Implementation', 25, 20, 5, '2018'),\n",
       " (1075, '2017_2018', 'Spring2018', 36043, 'CH', 'IS 0399', 'Independent Study', 0, 1, -1, '2018'),\n",
       " (None, None, 'Fall2018', 75942, '01', 'BA 0505', 'Python for Business Analytics', 20, 27, -7, '2018'),\n",
       " (2683, '2018_2019', 'Fall2018', 74215, '01', 'OM 0101', 'Operations Management', 25, 24, 1, '2018'),\n",
       " (2683, '2018_2019', 'Fall2018', 74216, '02', 'OM 0101', 'Operations Management', 25, 25, 0, '2018'),\n",
       " (None, None, 'Spring2019', 39006, '01', 'BA 0510', 'Databases for Business Analytics', 32, 34, -2, '2019'),\n",
       " (2683, '2018_2019', 'Spring2019', 37200, '01', 'OM 0101', 'Operations Management', 25, 26, -1, '2019'),\n",
       " (2683, '2018_2019', 'Spring2019', 37201, '02', 'OM 0101', 'Operations Management', 25, 27, -2, '2019')]"
      ]
     },
     "execution_count": 22,
     "metadata": {},
     "output_type": "execute_result"
    }
   ],
   "source": [
    "%%sql\n",
    "SELECT CatalogCourseID, CatalogYear, Term, CRN, Section,Class.CatalogID as CatalogID, Title, Capacity, Actual, Remaining, substr(Term,-4) as Year\n",
    "FROM Class \n",
    "    LEFT JOIN Professor ON (Class.ProfessorID = Professor.ProfessorID)\n",
    "    LEFT JOIN CatalogCourse USING (CatalogCourseID)\n",
    "    LEFT JOIN Program USING (ProgramID)\n",
    "WHERE Name like '%Huntley'\n",
    "ORDER BY Year,Term DESC,CatalogID,Section;"
   ]
  },
  {
   "cell_type": "code",
   "execution_count": 23,
   "metadata": {},
   "outputs": [
    {
     "name": "stdout",
     "output_type": "stream",
     "text": [
      " * sqlite:///CourseData.db\n",
      "Done.\n"
     ]
    },
    {
     "data": {
      "text/html": [
       "<table>\n",
       "    <tr>\n",
       "        <th>Term</th>\n",
       "        <th>ClassID</th>\n",
       "        <th>MeetingID</th>\n",
       "    </tr>\n",
       "    <tr>\n",
       "        <td>Spring2019</td>\n",
       "        <td>13345</td>\n",
       "        <td>253416</td>\n",
       "    </tr>\n",
       "</table>"
      ],
      "text/plain": [
       "[('Spring2019', 13345, 253416)]"
      ]
     },
     "execution_count": 23,
     "metadata": {},
     "output_type": "execute_result"
    }
   ],
   "source": [
    "%%sql\n",
    "SELECT Term, ClassID, MeetingID\n",
    "FROM Class JOIN Meeting USING (ClassID)\n",
    "WHERE CRN=39006 and Term = 'Spring2019'\n",
    "GROUP BY ClassID;"
   ]
  },
  {
   "cell_type": "code",
   "execution_count": 24,
   "metadata": {},
   "outputs": [
    {
     "name": "stdout",
     "output_type": "stream",
     "text": [
      " * sqlite:///CourseData.db\n",
      "Done.\n"
     ]
    },
    {
     "data": {
      "text/html": [
       "<table>\n",
       "    <tr>\n",
       "        <th>ClassID</th>\n",
       "        <th>MeetingID</th>\n",
       "        <th>StartTime</th>\n",
       "    </tr>\n",
       "    <tr>\n",
       "        <td>13345</td>\n",
       "        <td>253416</td>\n",
       "        <td>2019-01-29T18:30:00</td>\n",
       "    </tr>\n",
       "    <tr>\n",
       "        <td>13345</td>\n",
       "        <td>253417</td>\n",
       "        <td>2019-02-05T18:30:00</td>\n",
       "    </tr>\n",
       "    <tr>\n",
       "        <td>13345</td>\n",
       "        <td>253418</td>\n",
       "        <td>2019-02-12T18:30:00</td>\n",
       "    </tr>\n",
       "    <tr>\n",
       "        <td>13345</td>\n",
       "        <td>253419</td>\n",
       "        <td>2019-02-26T18:30:00</td>\n",
       "    </tr>\n",
       "    <tr>\n",
       "        <td>13345</td>\n",
       "        <td>253420</td>\n",
       "        <td>2019-03-05T18:30:00</td>\n",
       "    </tr>\n",
       "    <tr>\n",
       "        <td>13345</td>\n",
       "        <td>253421</td>\n",
       "        <td>2019-03-12T18:30:00</td>\n",
       "    </tr>\n",
       "    <tr>\n",
       "        <td>13345</td>\n",
       "        <td>253422</td>\n",
       "        <td>2019-02-02T09:00:00</td>\n",
       "    </tr>\n",
       "    <tr>\n",
       "        <td>13345</td>\n",
       "        <td>253423</td>\n",
       "        <td>2019-02-16T09:00:00</td>\n",
       "    </tr>\n",
       "    <tr>\n",
       "        <td>13345</td>\n",
       "        <td>253424</td>\n",
       "        <td>2019-03-09T09:00:00</td>\n",
       "    </tr>\n",
       "</table>"
      ],
      "text/plain": [
       "[(13345, 253416, '2019-01-29T18:30:00'),\n",
       " (13345, 253417, '2019-02-05T18:30:00'),\n",
       " (13345, 253418, '2019-02-12T18:30:00'),\n",
       " (13345, 253419, '2019-02-26T18:30:00'),\n",
       " (13345, 253420, '2019-03-05T18:30:00'),\n",
       " (13345, 253421, '2019-03-12T18:30:00'),\n",
       " (13345, 253422, '2019-02-02T09:00:00'),\n",
       " (13345, 253423, '2019-02-16T09:00:00'),\n",
       " (13345, 253424, '2019-03-09T09:00:00')]"
      ]
     },
     "execution_count": 24,
     "metadata": {},
     "output_type": "execute_result"
    }
   ],
   "source": [
    "%%sql\n",
    "SELECT ClassID, MeetingID, StartTime\n",
    "FROM Class JOIN Meeting USING (ClassID)\n",
    "WHERE CRN=39006 AND Term=\"Spring2019\";"
   ]
  },
  {
   "cell_type": "markdown",
   "metadata": {},
   "source": [
    "### __4. Empty Imported Tables:__"
   ]
  },
  {
   "cell_type": "code",
   "execution_count": 25,
   "metadata": {},
   "outputs": [
    {
     "name": "stdout",
     "output_type": "stream",
     "text": [
      " * sqlite:///CourseData.db\n",
      "15937 rows affected.\n",
      "284907 rows affected.\n",
      "4440 rows affected.\n"
     ]
    },
    {
     "data": {
      "text/plain": [
       "[]"
      ]
     },
     "execution_count": 25,
     "metadata": {},
     "output_type": "execute_result"
    }
   ],
   "source": [
    "%%sql\n",
    "DELETE FROM import_courses;\n",
    "DELETE FROM import_course_meetings;\n",
    "DELETE FROM import_catalog;"
   ]
  },
  {
   "cell_type": "code",
   "execution_count": 26,
   "metadata": {},
   "outputs": [
    {
     "name": "stdout",
     "output_type": "stream",
     "text": [
      " * sqlite:///CourseData.db\n",
      "Done.\n",
      "Done.\n",
      "Done.\n"
     ]
    },
    {
     "data": {
      "text/plain": [
       "[]"
      ]
     },
     "execution_count": 26,
     "metadata": {},
     "output_type": "execute_result"
    }
   ],
   "source": [
    "%%sql\n",
    "DROP TABLE import_courses;\n",
    "DROP TABLE import_course_meetings;\n",
    "DROP TABLE import_catalog;"
   ]
  },
  {
   "cell_type": "code",
   "execution_count": 27,
   "metadata": {},
   "outputs": [
    {
     "name": "stdout",
     "output_type": "stream",
     "text": [
      " * sqlite:///CourseData.db\n",
      "Done.\n"
     ]
    },
    {
     "data": {
      "text/plain": [
       "[]"
      ]
     },
     "execution_count": 27,
     "metadata": {},
     "output_type": "execute_result"
    }
   ],
   "source": [
    "%%sql\n",
    "vacuum;"
   ]
  },
  {
   "cell_type": "code",
   "execution_count": null,
   "metadata": {},
   "outputs": [],
   "source": []
  }
 ],
 "metadata": {
  "kernelspec": {
   "display_name": "Python 3",
   "language": "python",
   "name": "python3"
  },
  "language_info": {
   "codemirror_mode": {
    "name": "ipython",
    "version": 3
   },
   "file_extension": ".py",
   "mimetype": "text/x-python",
   "name": "python",
   "nbconvert_exporter": "python",
   "pygments_lexer": "ipython3",
   "version": "3.6.7"
  }
 },
 "nbformat": 4,
 "nbformat_minor": 4
}
